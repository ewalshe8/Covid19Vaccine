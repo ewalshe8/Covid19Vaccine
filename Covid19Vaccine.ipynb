{
  "nbformat": 4,
  "nbformat_minor": 0,
  "metadata": {
    "colab": {
      "name": "Covid19Vaccine.ipynb",
      "provenance": [],
      "collapsed_sections": []
    },
    "kernelspec": {
      "name": "python3",
      "display_name": "Python 3"
    }
  },
  "cells": [
    {
      "cell_type": "markdown",
      "metadata": {
        "id": "4DJ6-t6rZ7Xa"
      },
      "source": [
        "1. Deal with missing values and filling appropriately\n",
        "2. Exploratory Data Analysis\n",
        "3. Predictive Model - predicting amount of people vaccinated for the next 7 days"
      ]
    },
    {
      "cell_type": "code",
      "metadata": {
        "id": "wWt5b0mAaX1G"
      },
      "source": [
        "#importing libraries\n",
        "import numpy as np\n",
        "import pandas as pd\n",
        "from IPython.display import Image\n",
        "import matplotlib.pyplot as plt\n",
        "import seaborn as sns\n",
        "#scipy is a maths library\n",
        "import scipy\n",
        "#warnings allows you to program warning messsages\n",
        "import warnings\n",
        "import plotly.express as px\n",
        "from itertools import product\n",
        "import statsmodels.api as sm\n",
        "import datetime\n",
        "from tqdm import tqdm\n",
        "warnings.filterwarnings('ignore')"
      ],
      "execution_count": null,
      "outputs": []
    },
    {
      "cell_type": "code",
      "metadata": {
        "colab": {
          "resources": {
            "http://localhost:8080/nbextensions/google.colab/files.js": {
              "data": "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",
              "ok": true,
              "headers": [
                [
                  "content-type",
                  "application/javascript"
                ]
              ],
              "status": 200,
              "status_text": ""
            }
          },
          "base_uri": "https://localhost:8080/",
          "height": 73
        },
        "id": "pbT-dSAtbLan",
        "outputId": "121d30a9-9b69-4932-8e05-c3d5ded0a176"
      },
      "source": [
        "#uploading country_vaccinations.csv file\n",
        "from google.colab import files\n",
        "uploaded = files.upload()"
      ],
      "execution_count": null,
      "outputs": [
        {
          "output_type": "display_data",
          "data": {
            "text/html": [
              "\n",
              "     <input type=\"file\" id=\"files-44b6e90f-988a-4f62-b730-6fd59a5c58f8\" name=\"files[]\" multiple disabled\n",
              "        style=\"border:none\" />\n",
              "     <output id=\"result-44b6e90f-988a-4f62-b730-6fd59a5c58f8\">\n",
              "      Upload widget is only available when the cell has been executed in the\n",
              "      current browser session. Please rerun this cell to enable.\n",
              "      </output>\n",
              "      <script src=\"/nbextensions/google.colab/files.js\"></script> "
            ],
            "text/plain": [
              "<IPython.core.display.HTML object>"
            ]
          },
          "metadata": {
            "tags": []
          }
        },
        {
          "output_type": "stream",
          "text": [
            "Saving country_vaccinations.csv to country_vaccinations (1).csv\n"
          ],
          "name": "stdout"
        }
      ]
    },
    {
      "cell_type": "code",
      "metadata": {
        "id": "UhNDFbAccrHO"
      },
      "source": [
        "#loading the data into a dataframe\n",
        "data = pd.read_csv('country_vaccinations.csv')"
      ],
      "execution_count": null,
      "outputs": []
    },
    {
      "cell_type": "code",
      "metadata": {
        "colab": {
          "base_uri": "https://localhost:8080/",
          "height": 695
        },
        "id": "o6gz68bZc5KU",
        "outputId": "12974b95-c599-4402-9c0a-851488bce71f"
      },
      "source": [
        "#ensuring the data is loaded in correctly\n",
        "data"
      ],
      "execution_count": null,
      "outputs": [
        {
          "output_type": "execute_result",
          "data": {
            "text/html": [
              "<div>\n",
              "<style scoped>\n",
              "    .dataframe tbody tr th:only-of-type {\n",
              "        vertical-align: middle;\n",
              "    }\n",
              "\n",
              "    .dataframe tbody tr th {\n",
              "        vertical-align: top;\n",
              "    }\n",
              "\n",
              "    .dataframe thead th {\n",
              "        text-align: right;\n",
              "    }\n",
              "</style>\n",
              "<table border=\"1\" class=\"dataframe\">\n",
              "  <thead>\n",
              "    <tr style=\"text-align: right;\">\n",
              "      <th></th>\n",
              "      <th>country</th>\n",
              "      <th>iso_code</th>\n",
              "      <th>date</th>\n",
              "      <th>total_vaccinations</th>\n",
              "      <th>people_vaccinated</th>\n",
              "      <th>people_fully_vaccinated</th>\n",
              "      <th>daily_vaccinations_raw</th>\n",
              "      <th>daily_vaccinations</th>\n",
              "      <th>total_vaccinations_per_hundred</th>\n",
              "      <th>people_vaccinated_per_hundred</th>\n",
              "      <th>people_fully_vaccinated_per_hundred</th>\n",
              "      <th>daily_vaccinations_per_million</th>\n",
              "      <th>vaccines</th>\n",
              "      <th>source_name</th>\n",
              "      <th>source_website</th>\n",
              "    </tr>\n",
              "  </thead>\n",
              "  <tbody>\n",
              "    <tr>\n",
              "      <th>0</th>\n",
              "      <td>Algeria</td>\n",
              "      <td>DZA</td>\n",
              "      <td>2021-01-29</td>\n",
              "      <td>0.0</td>\n",
              "      <td>NaN</td>\n",
              "      <td>NaN</td>\n",
              "      <td>NaN</td>\n",
              "      <td>NaN</td>\n",
              "      <td>0.00</td>\n",
              "      <td>NaN</td>\n",
              "      <td>NaN</td>\n",
              "      <td>NaN</td>\n",
              "      <td>Sputnik V</td>\n",
              "      <td>Ministry of Health</td>\n",
              "      <td>https://www.aps.dz/regions/116777-blida-covid-...</td>\n",
              "    </tr>\n",
              "    <tr>\n",
              "      <th>1</th>\n",
              "      <td>Algeria</td>\n",
              "      <td>DZA</td>\n",
              "      <td>2021-01-30</td>\n",
              "      <td>30.0</td>\n",
              "      <td>NaN</td>\n",
              "      <td>NaN</td>\n",
              "      <td>30.0</td>\n",
              "      <td>30.0</td>\n",
              "      <td>0.00</td>\n",
              "      <td>NaN</td>\n",
              "      <td>NaN</td>\n",
              "      <td>1.0</td>\n",
              "      <td>Sputnik V</td>\n",
              "      <td>Ministry of Health</td>\n",
              "      <td>https://www.aps.dz/regions/116777-blida-covid-...</td>\n",
              "    </tr>\n",
              "    <tr>\n",
              "      <th>2</th>\n",
              "      <td>Argentina</td>\n",
              "      <td>ARG</td>\n",
              "      <td>2020-12-29</td>\n",
              "      <td>700.0</td>\n",
              "      <td>NaN</td>\n",
              "      <td>NaN</td>\n",
              "      <td>NaN</td>\n",
              "      <td>NaN</td>\n",
              "      <td>0.00</td>\n",
              "      <td>NaN</td>\n",
              "      <td>NaN</td>\n",
              "      <td>NaN</td>\n",
              "      <td>Sputnik V</td>\n",
              "      <td>Ministry of Health</td>\n",
              "      <td>http://datos.salud.gob.ar/dataset/vacunas-cont...</td>\n",
              "    </tr>\n",
              "    <tr>\n",
              "      <th>3</th>\n",
              "      <td>Argentina</td>\n",
              "      <td>ARG</td>\n",
              "      <td>2020-12-30</td>\n",
              "      <td>NaN</td>\n",
              "      <td>NaN</td>\n",
              "      <td>NaN</td>\n",
              "      <td>NaN</td>\n",
              "      <td>15656.0</td>\n",
              "      <td>NaN</td>\n",
              "      <td>NaN</td>\n",
              "      <td>NaN</td>\n",
              "      <td>346.0</td>\n",
              "      <td>Sputnik V</td>\n",
              "      <td>Ministry of Health</td>\n",
              "      <td>http://datos.salud.gob.ar/dataset/vacunas-cont...</td>\n",
              "    </tr>\n",
              "    <tr>\n",
              "      <th>4</th>\n",
              "      <td>Argentina</td>\n",
              "      <td>ARG</td>\n",
              "      <td>2020-12-31</td>\n",
              "      <td>32013.0</td>\n",
              "      <td>NaN</td>\n",
              "      <td>NaN</td>\n",
              "      <td>NaN</td>\n",
              "      <td>15656.0</td>\n",
              "      <td>0.07</td>\n",
              "      <td>NaN</td>\n",
              "      <td>NaN</td>\n",
              "      <td>346.0</td>\n",
              "      <td>Sputnik V</td>\n",
              "      <td>Ministry of Health</td>\n",
              "      <td>http://datos.salud.gob.ar/dataset/vacunas-cont...</td>\n",
              "    </tr>\n",
              "    <tr>\n",
              "      <th>...</th>\n",
              "      <td>...</td>\n",
              "      <td>...</td>\n",
              "      <td>...</td>\n",
              "      <td>...</td>\n",
              "      <td>...</td>\n",
              "      <td>...</td>\n",
              "      <td>...</td>\n",
              "      <td>...</td>\n",
              "      <td>...</td>\n",
              "      <td>...</td>\n",
              "      <td>...</td>\n",
              "      <td>...</td>\n",
              "      <td>...</td>\n",
              "      <td>...</td>\n",
              "      <td>...</td>\n",
              "    </tr>\n",
              "    <tr>\n",
              "      <th>1929</th>\n",
              "      <td>Wales</td>\n",
              "      <td>NaN</td>\n",
              "      <td>2021-01-27</td>\n",
              "      <td>336745.0</td>\n",
              "      <td>336071.0</td>\n",
              "      <td>674.0</td>\n",
              "      <td>23801.0</td>\n",
              "      <td>20845.0</td>\n",
              "      <td>10.68</td>\n",
              "      <td>10.66</td>\n",
              "      <td>0.02</td>\n",
              "      <td>6611.0</td>\n",
              "      <td>Oxford/AstraZeneca, Pfizer/BioNTech</td>\n",
              "      <td>Government of the United Kingdom</td>\n",
              "      <td>https://coronavirus.data.gov.uk/details/health...</td>\n",
              "    </tr>\n",
              "    <tr>\n",
              "      <th>1930</th>\n",
              "      <td>Wales</td>\n",
              "      <td>NaN</td>\n",
              "      <td>2021-01-28</td>\n",
              "      <td>362970.0</td>\n",
              "      <td>362253.0</td>\n",
              "      <td>717.0</td>\n",
              "      <td>26225.0</td>\n",
              "      <td>21463.0</td>\n",
              "      <td>11.51</td>\n",
              "      <td>11.49</td>\n",
              "      <td>0.02</td>\n",
              "      <td>6807.0</td>\n",
              "      <td>Oxford/AstraZeneca, Pfizer/BioNTech</td>\n",
              "      <td>Government of the United Kingdom</td>\n",
              "      <td>https://coronavirus.data.gov.uk/details/health...</td>\n",
              "    </tr>\n",
              "    <tr>\n",
              "      <th>1931</th>\n",
              "      <td>Wales</td>\n",
              "      <td>NaN</td>\n",
              "      <td>2021-01-29</td>\n",
              "      <td>378950.0</td>\n",
              "      <td>378200.0</td>\n",
              "      <td>750.0</td>\n",
              "      <td>15980.0</td>\n",
              "      <td>19705.0</td>\n",
              "      <td>12.02</td>\n",
              "      <td>12.00</td>\n",
              "      <td>0.02</td>\n",
              "      <td>6250.0</td>\n",
              "      <td>Oxford/AstraZeneca, Pfizer/BioNTech</td>\n",
              "      <td>Government of the United Kingdom</td>\n",
              "      <td>https://coronavirus.data.gov.uk/details/health...</td>\n",
              "    </tr>\n",
              "    <tr>\n",
              "      <th>1932</th>\n",
              "      <td>Wales</td>\n",
              "      <td>NaN</td>\n",
              "      <td>2021-01-30</td>\n",
              "      <td>404249.0</td>\n",
              "      <td>403463.0</td>\n",
              "      <td>786.0</td>\n",
              "      <td>25299.0</td>\n",
              "      <td>19885.0</td>\n",
              "      <td>12.82</td>\n",
              "      <td>12.80</td>\n",
              "      <td>0.02</td>\n",
              "      <td>6307.0</td>\n",
              "      <td>Oxford/AstraZeneca, Pfizer/BioNTech</td>\n",
              "      <td>Government of the United Kingdom</td>\n",
              "      <td>https://coronavirus.data.gov.uk/details/health...</td>\n",
              "    </tr>\n",
              "    <tr>\n",
              "      <th>1933</th>\n",
              "      <td>Wales</td>\n",
              "      <td>NaN</td>\n",
              "      <td>2021-01-31</td>\n",
              "      <td>417147.0</td>\n",
              "      <td>416306.0</td>\n",
              "      <td>841.0</td>\n",
              "      <td>12898.0</td>\n",
              "      <td>20824.0</td>\n",
              "      <td>13.23</td>\n",
              "      <td>13.20</td>\n",
              "      <td>0.03</td>\n",
              "      <td>6605.0</td>\n",
              "      <td>Oxford/AstraZeneca, Pfizer/BioNTech</td>\n",
              "      <td>Government of the United Kingdom</td>\n",
              "      <td>https://coronavirus.data.gov.uk/details/health...</td>\n",
              "    </tr>\n",
              "  </tbody>\n",
              "</table>\n",
              "<p>1934 rows × 15 columns</p>\n",
              "</div>"
            ],
            "text/plain": [
              "        country  ...                                     source_website\n",
              "0       Algeria  ...  https://www.aps.dz/regions/116777-blida-covid-...\n",
              "1       Algeria  ...  https://www.aps.dz/regions/116777-blida-covid-...\n",
              "2     Argentina  ...  http://datos.salud.gob.ar/dataset/vacunas-cont...\n",
              "3     Argentina  ...  http://datos.salud.gob.ar/dataset/vacunas-cont...\n",
              "4     Argentina  ...  http://datos.salud.gob.ar/dataset/vacunas-cont...\n",
              "...         ...  ...                                                ...\n",
              "1929      Wales  ...  https://coronavirus.data.gov.uk/details/health...\n",
              "1930      Wales  ...  https://coronavirus.data.gov.uk/details/health...\n",
              "1931      Wales  ...  https://coronavirus.data.gov.uk/details/health...\n",
              "1932      Wales  ...  https://coronavirus.data.gov.uk/details/health...\n",
              "1933      Wales  ...  https://coronavirus.data.gov.uk/details/health...\n",
              "\n",
              "[1934 rows x 15 columns]"
            ]
          },
          "metadata": {
            "tags": []
          },
          "execution_count": 39
        }
      ]
    },
    {
      "cell_type": "code",
      "metadata": {
        "id": "J18lXmtnc9wt",
        "colab": {
          "base_uri": "https://localhost:8080/"
        },
        "outputId": "90183c10-e996-44c3-f41e-75f598564a5d"
      },
      "source": [
        "#checking the shape of the data\n",
        "data.shape"
      ],
      "execution_count": null,
      "outputs": [
        {
          "output_type": "execute_result",
          "data": {
            "text/plain": [
              "(1934, 15)"
            ]
          },
          "metadata": {
            "tags": []
          },
          "execution_count": 40
        }
      ]
    },
    {
      "cell_type": "code",
      "metadata": {
        "colab": {
          "base_uri": "https://localhost:8080/"
        },
        "id": "65sLmp6YdjMX",
        "outputId": "19ab3a51-41f8-440b-f35e-ee2e61692afc"
      },
      "source": [
        "#check for missing data\n",
        "data.isna().sum()"
      ],
      "execution_count": null,
      "outputs": [
        {
          "output_type": "execute_result",
          "data": {
            "text/plain": [
              "country                                   0\n",
              "iso_code                                202\n",
              "date                                      0\n",
              "total_vaccinations                      656\n",
              "people_vaccinated                       930\n",
              "people_fully_vaccinated                1413\n",
              "daily_vaccinations_raw                  889\n",
              "daily_vaccinations                       71\n",
              "total_vaccinations_per_hundred          656\n",
              "people_vaccinated_per_hundred           930\n",
              "people_fully_vaccinated_per_hundred    1413\n",
              "daily_vaccinations_per_million           71\n",
              "vaccines                                  0\n",
              "source_name                               0\n",
              "source_website                            0\n",
              "dtype: int64"
            ]
          },
          "metadata": {
            "tags": []
          },
          "execution_count": 41
        }
      ]
    },
    {
      "cell_type": "markdown",
      "metadata": {
        "id": "7aweKpfqd4as"
      },
      "source": [
        "As we can see above there is a lot of missing data. \n",
        "First we will drop total_vaccinations as without any values this raw data doesn't make much sense"
      ]
    },
    {
      "cell_type": "code",
      "metadata": {
        "id": "aDbpsac7d1yV"
      },
      "source": [
        "data = data.drop(data[data.total_vaccinations.isna()].index)"
      ],
      "execution_count": null,
      "outputs": []
    },
    {
      "cell_type": "code",
      "metadata": {
        "colab": {
          "base_uri": "https://localhost:8080/"
        },
        "id": "3uEboDI-eUhL",
        "outputId": "58da91e8-487e-4359-e1fb-c894a4e590bb"
      },
      "source": [
        "data.isna().sum()"
      ],
      "execution_count": null,
      "outputs": [
        {
          "output_type": "execute_result",
          "data": {
            "text/plain": [
              "country                                  0\n",
              "iso_code                               102\n",
              "date                                     0\n",
              "total_vaccinations                       0\n",
              "people_vaccinated                      291\n",
              "people_fully_vaccinated                760\n",
              "daily_vaccinations_raw                 233\n",
              "daily_vaccinations                      67\n",
              "total_vaccinations_per_hundred           0\n",
              "people_vaccinated_per_hundred          291\n",
              "people_fully_vaccinated_per_hundred    760\n",
              "daily_vaccinations_per_million          67\n",
              "vaccines                                 0\n",
              "source_name                              0\n",
              "source_website                           0\n",
              "dtype: int64"
            ]
          },
          "metadata": {
            "tags": []
          },
          "execution_count": 43
        }
      ]
    },
    {
      "cell_type": "code",
      "metadata": {
        "id": "JOuy9f5SeW9o"
      },
      "source": [
        "#checking people_vaccinated \n",
        "check_data = data.drop(data[data.people_vaccinated.isna()].index)"
      ],
      "execution_count": null,
      "outputs": []
    },
    {
      "cell_type": "code",
      "metadata": {
        "colab": {
          "base_uri": "https://localhost:8080/",
          "height": 309
        },
        "id": "KLelwCAHe4uG",
        "outputId": "3bc096b3-f782-4cfd-eaba-b797327249d4"
      },
      "source": [
        "check_data.head()"
      ],
      "execution_count": null,
      "outputs": [
        {
          "output_type": "execute_result",
          "data": {
            "text/html": [
              "<div>\n",
              "<style scoped>\n",
              "    .dataframe tbody tr th:only-of-type {\n",
              "        vertical-align: middle;\n",
              "    }\n",
              "\n",
              "    .dataframe tbody tr th {\n",
              "        vertical-align: top;\n",
              "    }\n",
              "\n",
              "    .dataframe thead th {\n",
              "        text-align: right;\n",
              "    }\n",
              "</style>\n",
              "<table border=\"1\" class=\"dataframe\">\n",
              "  <thead>\n",
              "    <tr style=\"text-align: right;\">\n",
              "      <th></th>\n",
              "      <th>country</th>\n",
              "      <th>iso_code</th>\n",
              "      <th>date</th>\n",
              "      <th>total_vaccinations</th>\n",
              "      <th>people_vaccinated</th>\n",
              "      <th>people_fully_vaccinated</th>\n",
              "      <th>daily_vaccinations_raw</th>\n",
              "      <th>daily_vaccinations</th>\n",
              "      <th>total_vaccinations_per_hundred</th>\n",
              "      <th>people_vaccinated_per_hundred</th>\n",
              "      <th>people_fully_vaccinated_per_hundred</th>\n",
              "      <th>daily_vaccinations_per_million</th>\n",
              "      <th>vaccines</th>\n",
              "      <th>source_name</th>\n",
              "      <th>source_website</th>\n",
              "    </tr>\n",
              "  </thead>\n",
              "  <tbody>\n",
              "    <tr>\n",
              "      <th>24</th>\n",
              "      <td>Argentina</td>\n",
              "      <td>ARG</td>\n",
              "      <td>2021-01-20</td>\n",
              "      <td>247933.0</td>\n",
              "      <td>243539.0</td>\n",
              "      <td>4394.0</td>\n",
              "      <td>NaN</td>\n",
              "      <td>11586.0</td>\n",
              "      <td>0.55</td>\n",
              "      <td>0.54</td>\n",
              "      <td>0.01</td>\n",
              "      <td>256.0</td>\n",
              "      <td>Sputnik V</td>\n",
              "      <td>Ministry of Health</td>\n",
              "      <td>http://datos.salud.gob.ar/dataset/vacunas-cont...</td>\n",
              "    </tr>\n",
              "    <tr>\n",
              "      <th>25</th>\n",
              "      <td>Argentina</td>\n",
              "      <td>ARG</td>\n",
              "      <td>2021-01-21</td>\n",
              "      <td>265724.0</td>\n",
              "      <td>249372.0</td>\n",
              "      <td>16352.0</td>\n",
              "      <td>17791.0</td>\n",
              "      <td>11704.0</td>\n",
              "      <td>0.59</td>\n",
              "      <td>0.55</td>\n",
              "      <td>0.04</td>\n",
              "      <td>259.0</td>\n",
              "      <td>Sputnik V</td>\n",
              "      <td>Ministry of Health</td>\n",
              "      <td>http://datos.salud.gob.ar/dataset/vacunas-cont...</td>\n",
              "    </tr>\n",
              "    <tr>\n",
              "      <th>26</th>\n",
              "      <td>Argentina</td>\n",
              "      <td>ARG</td>\n",
              "      <td>2021-01-22</td>\n",
              "      <td>279602.0</td>\n",
              "      <td>254456.0</td>\n",
              "      <td>25146.0</td>\n",
              "      <td>13878.0</td>\n",
              "      <td>11263.0</td>\n",
              "      <td>0.62</td>\n",
              "      <td>0.56</td>\n",
              "      <td>0.06</td>\n",
              "      <td>249.0</td>\n",
              "      <td>Sputnik V</td>\n",
              "      <td>Ministry of Health</td>\n",
              "      <td>http://datos.salud.gob.ar/dataset/vacunas-cont...</td>\n",
              "    </tr>\n",
              "    <tr>\n",
              "      <th>27</th>\n",
              "      <td>Argentina</td>\n",
              "      <td>ARG</td>\n",
              "      <td>2021-01-23</td>\n",
              "      <td>288064.0</td>\n",
              "      <td>258876.0</td>\n",
              "      <td>29188.0</td>\n",
              "      <td>8462.0</td>\n",
              "      <td>11124.0</td>\n",
              "      <td>0.64</td>\n",
              "      <td>0.57</td>\n",
              "      <td>0.06</td>\n",
              "      <td>246.0</td>\n",
              "      <td>Sputnik V</td>\n",
              "      <td>Ministry of Health</td>\n",
              "      <td>http://datos.salud.gob.ar/dataset/vacunas-cont...</td>\n",
              "    </tr>\n",
              "    <tr>\n",
              "      <th>28</th>\n",
              "      <td>Argentina</td>\n",
              "      <td>ARG</td>\n",
              "      <td>2021-01-24</td>\n",
              "      <td>292023.0</td>\n",
              "      <td>260036.0</td>\n",
              "      <td>31987.0</td>\n",
              "      <td>3959.0</td>\n",
              "      <td>10342.0</td>\n",
              "      <td>0.65</td>\n",
              "      <td>0.58</td>\n",
              "      <td>0.07</td>\n",
              "      <td>229.0</td>\n",
              "      <td>Sputnik V</td>\n",
              "      <td>Ministry of Health</td>\n",
              "      <td>http://datos.salud.gob.ar/dataset/vacunas-cont...</td>\n",
              "    </tr>\n",
              "  </tbody>\n",
              "</table>\n",
              "</div>"
            ],
            "text/plain": [
              "      country  ...                                     source_website\n",
              "24  Argentina  ...  http://datos.salud.gob.ar/dataset/vacunas-cont...\n",
              "25  Argentina  ...  http://datos.salud.gob.ar/dataset/vacunas-cont...\n",
              "26  Argentina  ...  http://datos.salud.gob.ar/dataset/vacunas-cont...\n",
              "27  Argentina  ...  http://datos.salud.gob.ar/dataset/vacunas-cont...\n",
              "28  Argentina  ...  http://datos.salud.gob.ar/dataset/vacunas-cont...\n",
              "\n",
              "[5 rows x 15 columns]"
            ]
          },
          "metadata": {
            "tags": []
          },
          "execution_count": 45
        }
      ]
    },
    {
      "cell_type": "markdown",
      "metadata": {
        "id": "apkLSV8ee77F"
      },
      "source": [
        "It can be seen from the above data that , that the values of total_vaccinations and people_vaccinated are mostly the same. This is also the case for total_vaccinations_per_hundred and people_vaccinated_per_hundred. We will now check the correlation to see if this is the case."
      ]
    },
    {
      "cell_type": "code",
      "metadata": {
        "colab": {
          "base_uri": "https://localhost:8080/",
          "height": 626
        },
        "id": "2iMLi1oue6iT",
        "outputId": "ff965205-b39a-4f69-8d55-dd3c723ee713"
      },
      "source": [
        "#heatmap plots data as a color-encoded matrix \n",
        "#.corr() is used to find the pairwaise correlation of all columns in the dataframe - NA values are excluded\n",
        "plt.subplots(figsize=(8,8))\n",
        "sns.heatmap(check_data.corr(), annot=True, square=True)\n",
        "plt.show()"
      ],
      "execution_count": null,
      "outputs": [
        {
          "output_type": "display_data",
          "data": {
            "image/png": "[encoded data removed]",
            "text/plain": [
              "<Figure size 576x576 with 2 Axes>"
            ]
          },
          "metadata": {
            "tags": [],
            "needs_background": "light"
          }
        }
      ]
    },
    {
      "cell_type": "markdown",
      "metadata": {
        "id": "PBgkCdgHf40-"
      },
      "source": [
        "The heatmap shows that these features have the most ideal correlations."
      ]
    },
    {
      "cell_type": "markdown",
      "metadata": {
        "id": "qPRtfVCFg1bQ"
      },
      "source": [
        "# people_vaccinated and people_vaccinated per_hundred\n",
        "people_vaccinated and people_vaccinated_per_hundred greatly correlates with total_vaccinations and total_vaccinations_per_hundred. We will check this hypothesis that these columns and distributions are the same. We will use the Mann-Whitney U test for this goal. In statistics, the Mann–Whitney U test is a nonparametric test of the null hypothesis that, for randomly selected values X and Y from two populations, the probability of X being greater than Y is equal to the probability of Y being greater than X."
      ]
    },
    {
      "cell_type": "code",
      "metadata": {
        "colab": {
          "base_uri": "https://localhost:8080/"
        },
        "id": "RgXYElwofdiC",
        "outputId": "98125435-d886-4cfa-97e2-96151c4382a2"
      },
      "source": [
        "scipy.stats.mannwhitneyu(check_data.total_vaccinations, check_data.people_vaccinated)"
      ],
      "execution_count": null,
      "outputs": [
        {
          "output_type": "execute_result",
          "data": {
            "text/plain": [
              "MannwhitneyuResult(statistic=479337.5, pvalue=0.2703415212250936)"
            ]
          },
          "metadata": {
            "tags": []
          },
          "execution_count": 47
        }
      ]
    },
    {
      "cell_type": "code",
      "metadata": {
        "colab": {
          "base_uri": "https://localhost:8080/"
        },
        "id": "4_dXmMxCoiqA",
        "outputId": "363a5f38-2802-4c77-8d9c-5eb18f831f2f"
      },
      "source": [
        "scipy.stats.mannwhitneyu(check_data.total_vaccinations_per_hundred, check_data.people_vaccinated_per_hundred)"
      ],
      "execution_count": null,
      "outputs": [
        {
          "output_type": "execute_result",
          "data": {
            "text/plain": [
              "MannwhitneyuResult(statistic=475851.5, pvalue=0.1875120988854057)"
            ]
          },
          "metadata": {
            "tags": []
          },
          "execution_count": 48
        }
      ]
    },
    {
      "cell_type": "markdown",
      "metadata": {
        "id": "Tk-dggySoy5R"
      },
      "source": [
        "The p-value in both instances is much higher than 0.05, which means we cannot reject our hypothesis. Thus, we will fill the missing values with the difference's of these column's mean values. "
      ]
    },
    {
      "cell_type": "code",
      "metadata": {
        "id": "ID7FF0sJotng"
      },
      "source": [
        "diff = check_data.total_vaccinations.mean() - check_data.people_vaccinated.mean()\n",
        "diff_per_hundred = check_data.total_vaccinations_per_hundred.mean() - check_data.people_vaccinated_per_hundred.mean()\n",
        "\n",
        "data.people_vaccinated = data.people_vaccinated.fillna(data.total_vaccinations - diff)\n",
        "data.people_vaccinated_per_hundred = data.people_vaccinated_per_hundred.fillna(data.total_vaccinations_per_hundred - diff_per_hundred)"
      ],
      "execution_count": null,
      "outputs": []
    },
    {
      "cell_type": "code",
      "metadata": {
        "colab": {
          "base_uri": "https://localhost:8080/"
        },
        "id": "K2hXihvMp1e6",
        "outputId": "ae0d49a4-6b9c-4f0b-b0cb-3e1c9ace5248"
      },
      "source": [
        "#checking if these null values are now ammended\n",
        "data.isna().sum()"
      ],
      "execution_count": null,
      "outputs": [
        {
          "output_type": "execute_result",
          "data": {
            "text/plain": [
              "country                                  0\n",
              "iso_code                               102\n",
              "date                                     0\n",
              "total_vaccinations                       0\n",
              "people_vaccinated                        0\n",
              "people_fully_vaccinated                760\n",
              "daily_vaccinations_raw                 233\n",
              "daily_vaccinations                      67\n",
              "total_vaccinations_per_hundred           0\n",
              "people_vaccinated_per_hundred            0\n",
              "people_fully_vaccinated_per_hundred    760\n",
              "daily_vaccinations_per_million          67\n",
              "vaccines                                 0\n",
              "source_name                              0\n",
              "source_website                           0\n",
              "dtype: int64"
            ]
          },
          "metadata": {
            "tags": []
          },
          "execution_count": 50
        }
      ]
    },
    {
      "cell_type": "markdown",
      "metadata": {
        "id": "jsnb0A-zqAs3"
      },
      "source": [
        "# daily_vaccinations and daily_vaccinations_per_million\n"
      ]
    },
    {
      "cell_type": "markdown",
      "metadata": {
        "id": "B3LhqtazJ_3e"
      },
      "source": [
        "daily_vaccinations and daily_vaccinations_per_million greatly correlates with people_vaccinated and people_vaccinated_per_hundred"
      ]
    },
    {
      "cell_type": "code",
      "metadata": {
        "id": "4yeQG5Y_p7-S",
        "colab": {
          "base_uri": "https://localhost:8080/"
        },
        "outputId": "b84c6fee-3926-4bdc-f4f5-7a4825e7e677"
      },
      "source": [
        "#checking the above hypothesis - i.e that these columns distributions are the same\n",
        "scipy.stats.mannwhitneyu(check_data.people_vaccinated, check_data.daily_vaccinations)"
      ],
      "execution_count": null,
      "outputs": [
        {
          "output_type": "execute_result",
          "data": {
            "text/plain": [
              "MannwhitneyuResult(statistic=221218.0, pvalue=3.508994337909303e-98)"
            ]
          },
          "metadata": {
            "tags": []
          },
          "execution_count": 51
        }
      ]
    },
    {
      "cell_type": "code",
      "metadata": {
        "colab": {
          "base_uri": "https://localhost:8080/"
        },
        "id": "fghxPJKwNTa4",
        "outputId": "d0660f34-91f2-4a64-d125-a07b31dbbd7a"
      },
      "source": [
        "scipy.stats.mannwhitneyu(check_data.people_vaccinated_per_hundred, check_data.daily_vaccinations_per_million)"
      ],
      "execution_count": null,
      "outputs": [
        {
          "output_type": "execute_result",
          "data": {
            "text/plain": [
              "MannwhitneyuResult(statistic=7324.5, pvalue=0.0)"
            ]
          },
          "metadata": {
            "tags": []
          },
          "execution_count": 52
        }
      ]
    },
    {
      "cell_type": "markdown",
      "metadata": {
        "id": "ky3bJuDRNlNZ"
      },
      "source": [
        "The above p-values are much less than 0.05 so we will reject our hypothesis. Thus, we will fill in the missing values with zeroes"
      ]
    },
    {
      "cell_type": "code",
      "metadata": {
        "id": "Vg49SgziNi60"
      },
      "source": [
        "data.daily_vaccinations = data.daily_vaccinations.fillna(0)\n",
        "data.daily_vaccinations_per_million = data.daily_vaccinations_per_million.fillna(0)"
      ],
      "execution_count": null,
      "outputs": []
    },
    {
      "cell_type": "code",
      "metadata": {
        "colab": {
          "base_uri": "https://localhost:8080/"
        },
        "id": "WMECIeN_N6dU",
        "outputId": "15cdff49-2eee-4c2a-c31f-944aedc0cff5"
      },
      "source": [
        "#checking the dataframe for null values again\n",
        "data.isna().sum()"
      ],
      "execution_count": null,
      "outputs": [
        {
          "output_type": "execute_result",
          "data": {
            "text/plain": [
              "country                                  0\n",
              "iso_code                               102\n",
              "date                                     0\n",
              "total_vaccinations                       0\n",
              "people_vaccinated                        0\n",
              "people_fully_vaccinated                760\n",
              "daily_vaccinations_raw                 233\n",
              "daily_vaccinations                       0\n",
              "total_vaccinations_per_hundred           0\n",
              "people_vaccinated_per_hundred            0\n",
              "people_fully_vaccinated_per_hundred    760\n",
              "daily_vaccinations_per_million           0\n",
              "vaccines                                 0\n",
              "source_name                              0\n",
              "source_website                           0\n",
              "dtype: int64"
            ]
          },
          "metadata": {
            "tags": []
          },
          "execution_count": 54
        }
      ]
    },
    {
      "cell_type": "markdown",
      "metadata": {
        "id": "rYPOtt9TOKT6"
      },
      "source": [
        "# people_fully_vaccinated and people_fully_vaccinated_per_hundred\n",
        "people_fully_vaccinated and people_fully_vaccinated_per_hundred greatly correlates with total_vaccinations and total_vaccinations_per_hundred"
      ]
    },
    {
      "cell_type": "code",
      "metadata": {
        "colab": {
          "base_uri": "https://localhost:8080/"
        },
        "id": "cAlDP7zwOBcU",
        "outputId": "1d926825-8529-48e1-c80b-889b233c7ee9"
      },
      "source": [
        "#testing the above hypothesis\n",
        "scipy.stats.mannwhitneyu(check_data.people_fully_vaccinated, check_data.total_vaccinations)"
      ],
      "execution_count": null,
      "outputs": [
        {
          "output_type": "execute_result",
          "data": {
            "text/plain": [
              "MannwhitneyuResult(statistic=367267.5, pvalue=1.5030183945470594e-21)"
            ]
          },
          "metadata": {
            "tags": []
          },
          "execution_count": 55
        }
      ]
    },
    {
      "cell_type": "code",
      "metadata": {
        "colab": {
          "base_uri": "https://localhost:8080/"
        },
        "id": "wmyNord5Op9o",
        "outputId": "2e46a242-4b48-4ad3-8aa5-b1925c1d6c58"
      },
      "source": [
        "scipy.stats.mannwhitneyu(check_data.people_fully_vaccinated_per_hundred, check_data.total_vaccinations_per_hundred)"
      ],
      "execution_count": null,
      "outputs": [
        {
          "output_type": "execute_result",
          "data": {
            "text/plain": [
              "MannwhitneyuResult(statistic=394889.5, pvalue=1.6527101531323275e-13)"
            ]
          },
          "metadata": {
            "tags": []
          },
          "execution_count": 56
        }
      ]
    },
    {
      "cell_type": "markdown",
      "metadata": {
        "id": "_QiBylBlO1Tt"
      },
      "source": [
        "The above p-values are much less than 0.05, which means we reject our hypothesis and fill in the missing values with zeros."
      ]
    },
    {
      "cell_type": "code",
      "metadata": {
        "id": "uXTUU31tOxxh"
      },
      "source": [
        "data.people_fully_vaccinated = data.people_fully_vaccinated.fillna(0)\n",
        "data.people_fully_vaccinated_per_hundred = data.people_fully_vaccinated_per_hundred.fillna(0)"
      ],
      "execution_count": null,
      "outputs": []
    },
    {
      "cell_type": "code",
      "metadata": {
        "colab": {
          "base_uri": "https://localhost:8080/"
        },
        "id": "YRPPnQ9wPfiS",
        "outputId": "f2b126d5-497e-41ea-9ff6-1937e8c3546f"
      },
      "source": [
        "#checking the newly ammended null values\n",
        "data.isna().sum()"
      ],
      "execution_count": null,
      "outputs": [
        {
          "output_type": "execute_result",
          "data": {
            "text/plain": [
              "country                                  0\n",
              "iso_code                               102\n",
              "date                                     0\n",
              "total_vaccinations                       0\n",
              "people_vaccinated                        0\n",
              "people_fully_vaccinated                  0\n",
              "daily_vaccinations_raw                 233\n",
              "daily_vaccinations                       0\n",
              "total_vaccinations_per_hundred           0\n",
              "people_vaccinated_per_hundred            0\n",
              "people_fully_vaccinated_per_hundred      0\n",
              "daily_vaccinations_per_million           0\n",
              "vaccines                                 0\n",
              "source_name                              0\n",
              "source_website                           0\n",
              "dtype: int64"
            ]
          },
          "metadata": {
            "tags": []
          },
          "execution_count": 58
        }
      ]
    },
    {
      "cell_type": "markdown",
      "metadata": {
        "id": "s2MqRSSRPouQ"
      },
      "source": [
        "# daily_vaccinations_raw\n",
        "daily_vaccinations_raw greatly correlates with daily_vaccinations. Check this hypothesis"
      ]
    },
    {
      "cell_type": "code",
      "metadata": {
        "colab": {
          "base_uri": "https://localhost:8080/"
        },
        "id": "P4pxScCgPksM",
        "outputId": "aecd21e2-e7e1-4465-f3d7-5a5972516503"
      },
      "source": [
        "scipy.stats.mannwhitneyu(check_data.daily_vaccinations_raw, check_data.daily_vaccinations)"
      ],
      "execution_count": null,
      "outputs": [
        {
          "output_type": "execute_result",
          "data": {
            "text/plain": [
              "MannwhitneyuResult(statistic=439828.5, pvalue=9.498055460090811e-05)"
            ]
          },
          "metadata": {
            "tags": []
          },
          "execution_count": 59
        }
      ]
    },
    {
      "cell_type": "markdown",
      "metadata": {
        "id": "Jz6pTXTpQCCX"
      },
      "source": [
        "p-values are less than 0.05, so again the hypothesis is rejected and the null values are filled with 0."
      ]
    },
    {
      "cell_type": "code",
      "metadata": {
        "id": "bQhDwryWP9gb"
      },
      "source": [
        "data.daily_vaccinations_raw = data.daily_vaccinations_raw.fillna(0)"
      ],
      "execution_count": null,
      "outputs": []
    },
    {
      "cell_type": "code",
      "metadata": {
        "colab": {
          "base_uri": "https://localhost:8080/"
        },
        "id": "WZip-yBJQOvM",
        "outputId": "cd6a0d92-805b-4c91-e860-5a0abd82d145"
      },
      "source": [
        "#checking for the new null values\n",
        "data.isna().sum()"
      ],
      "execution_count": null,
      "outputs": [
        {
          "output_type": "execute_result",
          "data": {
            "text/plain": [
              "country                                  0\n",
              "iso_code                               102\n",
              "date                                     0\n",
              "total_vaccinations                       0\n",
              "people_vaccinated                        0\n",
              "people_fully_vaccinated                  0\n",
              "daily_vaccinations_raw                   0\n",
              "daily_vaccinations                       0\n",
              "total_vaccinations_per_hundred           0\n",
              "people_vaccinated_per_hundred            0\n",
              "people_fully_vaccinated_per_hundred      0\n",
              "daily_vaccinations_per_million           0\n",
              "vaccines                                 0\n",
              "source_name                              0\n",
              "source_website                           0\n",
              "dtype: int64"
            ]
          },
          "metadata": {
            "tags": []
          },
          "execution_count": 61
        }
      ]
    },
    {
      "cell_type": "markdown",
      "metadata": {
        "id": "I6MeYtxeRK1P"
      },
      "source": [
        "# iso_code\n",
        "iso_code is a code used to represent a country name. We will now check which countries are missing iso_codes"
      ]
    },
    {
      "cell_type": "code",
      "metadata": {
        "colab": {
          "base_uri": "https://localhost:8080/"
        },
        "id": "LytNruwyQUbs",
        "outputId": "9ef0f5f5-b248-4c8a-9001-225623b807ba"
      },
      "source": [
        "data[data.iso_code.isna()].country.unique()"
      ],
      "execution_count": null,
      "outputs": [
        {
          "output_type": "execute_result",
          "data": {
            "text/plain": [
              "array(['England', 'Northern Cyprus', 'Northern Ireland', 'Scotland',\n",
              "       'Wales'], dtype=object)"
            ]
          },
          "metadata": {
            "tags": []
          },
          "execution_count": 62
        }
      ]
    },
    {
      "cell_type": "markdown",
      "metadata": {
        "id": "sICkJDVKS5hv"
      },
      "source": [
        "The ISO codes for these countries are GB-ENG for England, NC for Northern Cyprus, GB-NIR for Northern Ireland, GB-SCT for Scotland, GB-WLS for Wales. We will fill in these iso_codes accordingly"
      ]
    },
    {
      "cell_type": "code",
      "metadata": {
        "id": "U-PxgLpwR9ny"
      },
      "source": [
        "data[data.country == 'England'] = data[data.country == 'England'].fillna('GB-ENG')\n",
        "data[data.country == 'Northern Cyprus'] = data[data.country == 'Northern Cyprus'].fillna('NC')\n",
        "data[data.country == 'Northern Ireland'] = data[data.country == 'Northern Ireland'].fillna('GB-NIR')\n",
        "data[data.country == 'Scotland'] = data[data.country == 'Scotland'].fillna('GB-SCT')\n",
        "data[data.country == 'Wales'] = data[data.country == 'Wales'].fillna('GB-WLS')"
      ],
      "execution_count": null,
      "outputs": []
    },
    {
      "cell_type": "code",
      "metadata": {
        "colab": {
          "base_uri": "https://localhost:8080/"
        },
        "id": "l9vIOdndUNSo",
        "outputId": "4b3e0afd-c4cb-4094-c0ae-df5b478e17b0"
      },
      "source": [
        "#checking if everything was changed\n",
        "data.isna().sum()"
      ],
      "execution_count": null,
      "outputs": [
        {
          "output_type": "execute_result",
          "data": {
            "text/plain": [
              "country                                0\n",
              "iso_code                               0\n",
              "date                                   0\n",
              "total_vaccinations                     0\n",
              "people_vaccinated                      0\n",
              "people_fully_vaccinated                0\n",
              "daily_vaccinations_raw                 0\n",
              "daily_vaccinations                     0\n",
              "total_vaccinations_per_hundred         0\n",
              "people_vaccinated_per_hundred          0\n",
              "people_fully_vaccinated_per_hundred    0\n",
              "daily_vaccinations_per_million         0\n",
              "vaccines                               0\n",
              "source_name                            0\n",
              "source_website                         0\n",
              "dtype: int64"
            ]
          },
          "metadata": {
            "tags": []
          },
          "execution_count": 64
        }
      ]
    },
    {
      "cell_type": "markdown",
      "metadata": {
        "id": "LfIlb4hhVAxz"
      },
      "source": [
        "# EDA and Visualisations\n",
        "1. Amount of Vaccinated People"
      ]
    },
    {
      "cell_type": "code",
      "metadata": {
        "id": "M5Ush5PHUTCA",
        "colab": {
          "base_uri": "https://localhost:8080/",
          "height": 550
        },
        "outputId": "d91e4b64-6774-4e30-9226-37f603638a9e"
      },
      "source": [
        "cols = ['country', 'total_vaccinations', 'iso_code', 'vaccines', 'total_vaccinations_per_hundred']\n",
        "vaccine_amount = data[cols].groupby('country').max().sort_values('total_vaccinations', ascending = False)\n",
        "plt.figure(figsize=(16,7))\n",
        "plt.bar(vaccine_amount.index, vaccine_amount.total_vaccinations)\n",
        "plt.xticks(rotation = 90)\n",
        "plt.ylabel('Amount of vaccinated citizens')\n",
        "plt.xlabel('Countries')\n",
        "plt.show()"
      ],
      "execution_count": null,
      "outputs": [
        {
          "output_type": "display_data",
          "data": {
            "image/png": "[encoded data removed]",
            "text/plain": [
              "<Figure size 1152x504 with 1 Axes>"
            ]
          },
          "metadata": {
            "tags": [],
            "needs_background": "light"
          }
        }
      ]
    },
    {
      "cell_type": "markdown",
      "metadata": {
        "id": "tEwqQ8fDcnID"
      },
      "source": [
        "The plot shows that the United States has received the most vaccines, with China not too far behind. There is a sharp drop off after this. We will now plot this information on a map. "
      ]
    },
    {
      "cell_type": "code",
      "metadata": {
        "colab": {
          "base_uri": "https://localhost:8080/",
          "height": 542
        },
        "id": "eq3rtLm0cfRL",
        "outputId": "1f203a57-c137-4b20-f55a-16d91fd2d003"
      },
      "source": [
        "fig = px.choropleth(locations=vaccine_amount.iso_code, color=vaccine_amount.total_vaccinations, title='Amount of vaccinated citizens', color_continuous_scale='rainbow')\n",
        "fig.show()"
      ],
      "execution_count": null,
      "outputs": [
        {
          "output_type": "display_data",
          "data": {
            "text/html": [
              "<html>\n",
              "<head><meta charset=\"utf-8\" /></head>\n",
              "<body>\n",
              "    <div>\n",
              "            <script src=\"https://cdnjs.cloudflare.com/ajax/libs/mathjax/2.7.5/MathJax.js?config=TeX-AMS-MML_SVG\"></script><script type=\"text/javascript\">if (window.MathJax) {MathJax.Hub.Config({SVG: {font: \"STIX-Web\"}});}</script>\n",
              "                <script type=\"text/javascript\">window.PlotlyConfig = {MathJaxConfig: 'local'};</script>\n",
              "        <script src=\"https://cdn.plot.ly/plotly-latest.min.js\"></script>    \n",
              "            <div id=\"4965f296-8f42-4d32-97af-c067ee61b867\" class=\"plotly-graph-div\" style=\"height:525px; width:100%;\"></div>\n",
              "            <script type=\"text/javascript\">\n",
              "                \n",
              "                    window.PLOTLYENV=window.PLOTLYENV || {};\n",
              "                    \n",
              "                if (document.getElementById(\"4965f296-8f42-4d32-97af-c067ee61b867\")) {\n",
              "                    Plotly.newPlot(\n",
              "                        '4965f296-8f42-4d32-97af-c067ee61b867',\n",
              "                        [{\"coloraxis\": \"coloraxis\", \"geo\": \"geo\", \"hoverlabel\": {\"namelength\": 0}, \"hovertemplate\": \"locations=%{location}<br>color=%{z}\", \"locations\": [\"USA\", \"CHN\", \"GBR\", \"GB-ENG\", \"ISR\", \"IND\", \"ARE\", \"DEU\", \"TUR\", \"BRA\", \"ITA\", \"FRA\", \"ESP\", \"POL\", \"RUS\", \"CAN\", \"ROU\", \"MEX\", \"GB-SCT\", \"IDN\", \"SAU\", \"SRB\", \"GB-WLS\", \"ARG\", \"PRT\", \"HUN\", \"BEL\", \"DNK\", \"GRC\", \"CZE\", \"CHE\", \"SWE\", \"GB-NIR\", \"AUT\", \"IRL\", \"NLD\", \"BHR\", \"FIN\", \"SGP\", \"SVK\", \"MAR\", \"NOR\", \"LTU\", \"HRV\", \"SVN\", \"CHL\", \"LKA\", \"CRI\", \"BGR\", \"EST\", \"OMN\", \"SYC\", \"MLT\", \"CYP\", \"LVA\", \"ISL\", \"GIB\", \"LUX\", \"NC\", \"IMN\", \"PAN\", \"MMR\", \"PLW\", \"ECU\", \"BMU\", \"KWT\", \"DZA\"], \"name\": \"\", \"type\": \"choropleth\", \"z\": [31123299.0, 24000000.0, 9790576.0, 8543262.0, 4871362.0, 3758843.0, 3440777.0, 2467918.0, 2136299.0, 2124307.0, 1991701.0, 1525377.0, 1474189.0, 1176904.0, 1000000.0, 955198.0, 691415.0, 670307.0, 583746.0, 515681.0, 440618.0, 437380.0, 417147.0, 375851.0, 338566.0, 299138.0, 296961.0, 270026.0, 269106.0, 268617.0, 262081.0, 248991.0, 246421.0, 202345.0, 199800.0, 176286.0, 171568.0, 163760.0, 155050.0, 134205.0, 126000.0, 124326.0, 92561.0, 80000.0, 76255.0, 67123.0, 59154.0, 48128.0, 41125.0, 38594.0, 37045.0, 30861.0, 27759.0, 25168.0, 23739.0, 15522.0, 13286.0, 11373.0, 11000.0, 8091.0, 6420.0, 3800.0, 3109.0, 2982.0, 2932.0, 2500.0, 30.0]}],\n",
              "                        {\"coloraxis\": {\"colorbar\": {\"title\": {\"text\": \"color\"}}, \"colorscale\": [[0.0, \"rgb(150,0,90)\"], [0.125, \"rgb(0,0,200)\"], [0.25, \"rgb(0,25,255)\"], [0.375, \"rgb(0,152,255)\"], [0.5, \"rgb(44,255,150)\"], [0.625, \"rgb(151,255,0)\"], [0.75, \"rgb(255,234,0)\"], [0.875, \"rgb(255,111,0)\"], [1.0, \"rgb(255,0,0)\"]]}, \"geo\": {\"center\": {}, \"domain\": {\"x\": [0.0, 1.0], \"y\": [0.0, 1.0]}}, \"legend\": {\"tracegroupgap\": 0}, \"template\": {\"data\": {\"bar\": [{\"error_x\": {\"color\": \"#2a3f5f\"}, \"error_y\": {\"color\": \"#2a3f5f\"}, \"marker\": {\"line\": {\"color\": \"#E5ECF6\", \"width\": 0.5}}, \"type\": \"bar\"}], \"barpolar\": [{\"marker\": {\"line\": {\"color\": \"#E5ECF6\", \"width\": 0.5}}, \"type\": \"barpolar\"}], \"carpet\": [{\"aaxis\": {\"endlinecolor\": \"#2a3f5f\", \"gridcolor\": \"white\", \"linecolor\": \"white\", \"minorgridcolor\": \"white\", \"startlinecolor\": \"#2a3f5f\"}, \"baxis\": {\"endlinecolor\": \"#2a3f5f\", \"gridcolor\": \"white\", \"linecolor\": \"white\", \"minorgridcolor\": \"white\", \"startlinecolor\": \"#2a3f5f\"}, \"type\": \"carpet\"}], \"choropleth\": [{\"colorbar\": {\"outlinewidth\": 0, \"ticks\": \"\"}, \"type\": \"choropleth\"}], \"contour\": [{\"colorbar\": {\"outlinewidth\": 0, \"ticks\": \"\"}, \"colorscale\": [[0.0, \"#0d0887\"], [0.1111111111111111, \"#46039f\"], [0.2222222222222222, \"#7201a8\"], [0.3333333333333333, \"#9c179e\"], [0.4444444444444444, \"#bd3786\"], [0.5555555555555556, \"#d8576b\"], [0.6666666666666666, \"#ed7953\"], [0.7777777777777778, \"#fb9f3a\"], [0.8888888888888888, \"#fdca26\"], [1.0, \"#f0f921\"]], \"type\": \"contour\"}], \"contourcarpet\": [{\"colorbar\": {\"outlinewidth\": 0, \"ticks\": \"\"}, \"type\": \"contourcarpet\"}], \"heatmap\": [{\"colorbar\": {\"outlinewidth\": 0, \"ticks\": \"\"}, \"colorscale\": [[0.0, \"#0d0887\"], [0.1111111111111111, \"#46039f\"], [0.2222222222222222, \"#7201a8\"], [0.3333333333333333, \"#9c179e\"], [0.4444444444444444, \"#bd3786\"], [0.5555555555555556, \"#d8576b\"], [0.6666666666666666, \"#ed7953\"], [0.7777777777777778, \"#fb9f3a\"], [0.8888888888888888, \"#fdca26\"], [1.0, \"#f0f921\"]], \"type\": \"heatmap\"}], \"heatmapgl\": [{\"colorbar\": {\"outlinewidth\": 0, \"ticks\": \"\"}, \"colorscale\": [[0.0, \"#0d0887\"], [0.1111111111111111, \"#46039f\"], [0.2222222222222222, \"#7201a8\"], [0.3333333333333333, \"#9c179e\"], [0.4444444444444444, \"#bd3786\"], [0.5555555555555556, \"#d8576b\"], [0.6666666666666666, \"#ed7953\"], [0.7777777777777778, \"#fb9f3a\"], [0.8888888888888888, \"#fdca26\"], [1.0, \"#f0f921\"]], \"type\": \"heatmapgl\"}], \"histogram\": [{\"marker\": {\"colorbar\": {\"outlinewidth\": 0, \"ticks\": \"\"}}, \"type\": \"histogram\"}], \"histogram2d\": [{\"colorbar\": {\"outlinewidth\": 0, \"ticks\": \"\"}, \"colorscale\": [[0.0, \"#0d0887\"], [0.1111111111111111, \"#46039f\"], [0.2222222222222222, \"#7201a8\"], [0.3333333333333333, \"#9c179e\"], [0.4444444444444444, \"#bd3786\"], [0.5555555555555556, \"#d8576b\"], [0.6666666666666666, \"#ed7953\"], [0.7777777777777778, \"#fb9f3a\"], [0.8888888888888888, \"#fdca26\"], [1.0, \"#f0f921\"]], \"type\": \"histogram2d\"}], \"histogram2dcontour\": [{\"colorbar\": {\"outlinewidth\": 0, \"ticks\": \"\"}, \"colorscale\": [[0.0, \"#0d0887\"], [0.1111111111111111, \"#46039f\"], [0.2222222222222222, \"#7201a8\"], [0.3333333333333333, \"#9c179e\"], [0.4444444444444444, \"#bd3786\"], [0.5555555555555556, \"#d8576b\"], [0.6666666666666666, \"#ed7953\"], [0.7777777777777778, \"#fb9f3a\"], [0.8888888888888888, \"#fdca26\"], [1.0, \"#f0f921\"]], \"type\": \"histogram2dcontour\"}], \"mesh3d\": [{\"colorbar\": {\"outlinewidth\": 0, \"ticks\": \"\"}, \"type\": \"mesh3d\"}], \"parcoords\": [{\"line\": {\"colorbar\": {\"outlinewidth\": 0, \"ticks\": \"\"}}, \"type\": \"parcoords\"}], \"pie\": [{\"automargin\": true, \"type\": \"pie\"}], \"scatter\": [{\"marker\": {\"colorbar\": {\"outlinewidth\": 0, \"ticks\": \"\"}}, \"type\": \"scatter\"}], \"scatter3d\": [{\"line\": {\"colorbar\": {\"outlinewidth\": 0, \"ticks\": \"\"}}, \"marker\": {\"colorbar\": {\"outlinewidth\": 0, \"ticks\": \"\"}}, \"type\": \"scatter3d\"}], \"scattercarpet\": [{\"marker\": {\"colorbar\": {\"outlinewidth\": 0, \"ticks\": \"\"}}, \"type\": \"scattercarpet\"}], \"scattergeo\": [{\"marker\": {\"colorbar\": {\"outlinewidth\": 0, \"ticks\": \"\"}}, \"type\": \"scattergeo\"}], \"scattergl\": [{\"marker\": {\"colorbar\": {\"outlinewidth\": 0, \"ticks\": \"\"}}, \"type\": \"scattergl\"}], \"scattermapbox\": [{\"marker\": {\"colorbar\": {\"outlinewidth\": 0, \"ticks\": \"\"}}, \"type\": \"scattermapbox\"}], \"scatterpolar\": [{\"marker\": {\"colorbar\": {\"outlinewidth\": 0, \"ticks\": \"\"}}, \"type\": \"scatterpolar\"}], \"scatterpolargl\": [{\"marker\": {\"colorbar\": {\"outlinewidth\": 0, \"ticks\": \"\"}}, \"type\": \"scatterpolargl\"}], \"scatterternary\": [{\"marker\": {\"colorbar\": {\"outlinewidth\": 0, \"ticks\": \"\"}}, \"type\": \"scatterternary\"}], \"surface\": [{\"colorbar\": {\"outlinewidth\": 0, \"ticks\": \"\"}, \"colorscale\": [[0.0, \"#0d0887\"], [0.1111111111111111, \"#46039f\"], [0.2222222222222222, \"#7201a8\"], [0.3333333333333333, \"#9c179e\"], [0.4444444444444444, \"#bd3786\"], [0.5555555555555556, \"#d8576b\"], [0.6666666666666666, \"#ed7953\"], [0.7777777777777778, \"#fb9f3a\"], [0.8888888888888888, \"#fdca26\"], [1.0, \"#f0f921\"]], \"type\": \"surface\"}], \"table\": [{\"cells\": {\"fill\": {\"color\": \"#EBF0F8\"}, \"line\": {\"color\": \"white\"}}, \"header\": {\"fill\": {\"color\": \"#C8D4E3\"}, \"line\": {\"color\": \"white\"}}, \"type\": \"table\"}]}, \"layout\": {\"annotationdefaults\": {\"arrowcolor\": \"#2a3f5f\", \"arrowhead\": 0, \"arrowwidth\": 1}, \"coloraxis\": {\"colorbar\": {\"outlinewidth\": 0, \"ticks\": \"\"}}, \"colorscale\": {\"diverging\": [[0, \"#8e0152\"], [0.1, \"#c51b7d\"], [0.2, \"#de77ae\"], [0.3, \"#f1b6da\"], [0.4, \"#fde0ef\"], [0.5, \"#f7f7f7\"], [0.6, \"#e6f5d0\"], [0.7, \"#b8e186\"], [0.8, \"#7fbc41\"], [0.9, \"#4d9221\"], [1, \"#276419\"]], \"sequential\": [[0.0, \"#0d0887\"], [0.1111111111111111, \"#46039f\"], [0.2222222222222222, \"#7201a8\"], [0.3333333333333333, \"#9c179e\"], [0.4444444444444444, \"#bd3786\"], [0.5555555555555556, \"#d8576b\"], [0.6666666666666666, \"#ed7953\"], [0.7777777777777778, \"#fb9f3a\"], [0.8888888888888888, \"#fdca26\"], [1.0, \"#f0f921\"]], \"sequentialminus\": [[0.0, \"#0d0887\"], [0.1111111111111111, \"#46039f\"], [0.2222222222222222, \"#7201a8\"], [0.3333333333333333, \"#9c179e\"], [0.4444444444444444, \"#bd3786\"], [0.5555555555555556, \"#d8576b\"], [0.6666666666666666, \"#ed7953\"], [0.7777777777777778, \"#fb9f3a\"], [0.8888888888888888, \"#fdca26\"], [1.0, \"#f0f921\"]]}, \"colorway\": [\"#636efa\", \"#EF553B\", \"#00cc96\", \"#ab63fa\", \"#FFA15A\", \"#19d3f3\", \"#FF6692\", \"#B6E880\", \"#FF97FF\", \"#FECB52\"], \"font\": {\"color\": \"#2a3f5f\"}, \"geo\": {\"bgcolor\": \"white\", \"lakecolor\": \"white\", \"landcolor\": \"#E5ECF6\", \"showlakes\": true, \"showland\": true, \"subunitcolor\": \"white\"}, \"hoverlabel\": {\"align\": \"left\"}, \"hovermode\": \"closest\", \"mapbox\": {\"style\": \"light\"}, \"paper_bgcolor\": \"white\", \"plot_bgcolor\": \"#E5ECF6\", \"polar\": {\"angularaxis\": {\"gridcolor\": \"white\", \"linecolor\": \"white\", \"ticks\": \"\"}, \"bgcolor\": \"#E5ECF6\", \"radialaxis\": {\"gridcolor\": \"white\", \"linecolor\": \"white\", \"ticks\": \"\"}}, \"scene\": {\"xaxis\": {\"backgroundcolor\": \"#E5ECF6\", \"gridcolor\": \"white\", \"gridwidth\": 2, \"linecolor\": \"white\", \"showbackground\": true, \"ticks\": \"\", \"zerolinecolor\": \"white\"}, \"yaxis\": {\"backgroundcolor\": \"#E5ECF6\", \"gridcolor\": \"white\", \"gridwidth\": 2, \"linecolor\": \"white\", \"showbackground\": true, \"ticks\": \"\", \"zerolinecolor\": \"white\"}, \"zaxis\": {\"backgroundcolor\": \"#E5ECF6\", \"gridcolor\": \"white\", \"gridwidth\": 2, \"linecolor\": \"white\", \"showbackground\": true, \"ticks\": \"\", \"zerolinecolor\": \"white\"}}, \"shapedefaults\": {\"line\": {\"color\": \"#2a3f5f\"}}, \"ternary\": {\"aaxis\": {\"gridcolor\": \"white\", \"linecolor\": \"white\", \"ticks\": \"\"}, \"baxis\": {\"gridcolor\": \"white\", \"linecolor\": \"white\", \"ticks\": \"\"}, \"bgcolor\": \"#E5ECF6\", \"caxis\": {\"gridcolor\": \"white\", \"linecolor\": \"white\", \"ticks\": \"\"}}, \"title\": {\"x\": 0.05}, \"xaxis\": {\"automargin\": true, \"gridcolor\": \"white\", \"linecolor\": \"white\", \"ticks\": \"\", \"title\": {\"standoff\": 15}, \"zerolinecolor\": \"white\", \"zerolinewidth\": 2}, \"yaxis\": {\"automargin\": true, \"gridcolor\": \"white\", \"linecolor\": \"white\", \"ticks\": \"\", \"title\": {\"standoff\": 15}, \"zerolinecolor\": \"white\", \"zerolinewidth\": 2}}}, \"title\": {\"text\": \"Amount of vaccinated citizens\"}},\n",
              "                        {\"responsive\": true}\n",
              "                    ).then(function(){\n",
              "                            \n",
              "var gd = document.getElementById('4965f296-8f42-4d32-97af-c067ee61b867');\n",
              "var x = new MutationObserver(function (mutations, observer) {{\n",
              "        var display = window.getComputedStyle(gd).display;\n",
              "        if (!display || display === 'none') {{\n",
              "            console.log([gd, 'removed!']);\n",
              "            Plotly.purge(gd);\n",
              "            observer.disconnect();\n",
              "        }}\n",
              "}});\n",
              "\n",
              "// Listen for the removal of the full notebook cells\n",
              "var notebookContainer = gd.closest('#notebook-container');\n",
              "if (notebookContainer) {{\n",
              "    x.observe(notebookContainer, {childList: true});\n",
              "}}\n",
              "\n",
              "// Listen for the clearing of the current output cell\n",
              "var outputEl = gd.closest('.output');\n",
              "if (outputEl) {{\n",
              "    x.observe(outputEl, {childList: true});\n",
              "}}\n",
              "\n",
              "                        })\n",
              "                };\n",
              "                \n",
              "            </script>\n",
              "        </div>\n",
              "</body>\n",
              "</html>"
            ]
          },
          "metadata": {
            "tags": []
          }
        }
      ]
    },
    {
      "cell_type": "markdown",
      "metadata": {
        "id": "Po8MJBkmgkiG"
      },
      "source": [
        "The map shows many European countries as well as countries in South America, and Arabic countries are among the lowest amount of total vaccinated citizens. Interesting to note again that the UK having quite a lot of total vaccines, and then on the contrary, very large countries like Russia having very little total vaccinations. We will not look at the total vaccinations per hundred to get a more accurate picture of country's access to the vaccine\n",
        " "
      ]
    },
    {
      "cell_type": "markdown",
      "metadata": {
        "id": "9T0Xy2yCiCms"
      },
      "source": [
        "# Amount Vaccinated Per Hundred\n"
      ]
    },
    {
      "cell_type": "code",
      "metadata": {
        "colab": {
          "base_uri": "https://localhost:8080/",
          "height": 431
        },
        "id": "5d9_3Y-HfXgl",
        "outputId": "f8e7ca8f-2602-401e-b73d-f6acf47b1f0e"
      },
      "source": [
        "vaccine_amount = vaccine_amount.sort_values('total_vaccinations_per_hundred', ascending = False)\n",
        "plt.figure(figsize=(14,5))\n",
        "plt.bar(vaccine_amount.index, vaccine_amount.total_vaccinations_per_hundred)\n",
        "plt.xticks(rotation = 90)\n",
        "plt.ylabel('Amount Vaccinated Per Hundred')\n",
        "plt.xlabel('Countries')\n",
        "plt.show()"
      ],
      "execution_count": null,
      "outputs": [
        {
          "output_type": "display_data",
          "data": {
            "image/png": "[encoded data removed]",
            "text/plain": [
              "<Figure size 1008x360 with 1 Axes>"
            ]
          },
          "metadata": {
            "tags": [],
            "needs_background": "light"
          }
        }
      ]
    },
    {
      "cell_type": "markdown",
      "metadata": {
        "id": "dmnHOIJDkUa5"
      },
      "source": [
        "Israel, Gibraltar and UAE are the three countries with the highest levels of vaccinated people per hundred. It should be noted that these countries do not have high populations and hence the high statistic. The UK is quite high up the list for a country its size and is a far bigger country than the countries ahead of it. We will now plot this data on a map"
      ]
    },
    {
      "cell_type": "code",
      "metadata": {
        "colab": {
          "base_uri": "https://localhost:8080/",
          "height": 542
        },
        "id": "XhGR35mbkHgs",
        "outputId": "39b0db28-9b58-4b66-c7f5-6dce73412c01"
      },
      "source": [
        "fig = px.choropleth(locations=vaccine_amount.iso_code, color = vaccine_amount.total_vaccinations_per_hundred, title = 'Amount of Vaccinated Citizens per Hundred')\n",
        "fig.show()"
      ],
      "execution_count": null,
      "outputs": [
        {
          "output_type": "display_data",
          "data": {
            "text/html": [
              "<html>\n",
              "<head><meta charset=\"utf-8\" /></head>\n",
              "<body>\n",
              "    <div>\n",
              "            <script src=\"https://cdnjs.cloudflare.com/ajax/libs/mathjax/2.7.5/MathJax.js?config=TeX-AMS-MML_SVG\"></script><script type=\"text/javascript\">if (window.MathJax) {MathJax.Hub.Config({SVG: {font: \"STIX-Web\"}});}</script>\n",
              "                <script type=\"text/javascript\">window.PlotlyConfig = {MathJaxConfig: 'local'};</script>\n",
              "        <script src=\"https://cdn.plot.ly/plotly-latest.min.js\"></script>    \n",
              "            <div id=\"c4672cca-ae5a-4766-8a38-a9f5ac9a8545\" class=\"plotly-graph-div\" style=\"height:525px; width:100%;\"></div>\n",
              "            <script type=\"text/javascript\">\n",
              "                \n",
              "                    window.PLOTLYENV=window.PLOTLYENV || {};\n",
              "                    \n",
              "                if (document.getElementById(\"c4672cca-ae5a-4766-8a38-a9f5ac9a8545\")) {\n",
              "                    Plotly.newPlot(\n",
              "                        'c4672cca-ae5a-4766-8a38-a9f5ac9a8545',\n",
              "                        [{\"coloraxis\": \"coloraxis\", \"geo\": \"geo\", \"hoverlabel\": {\"namelength\": 0}, \"hovertemplate\": \"locations=%{location}<br>color=%{z}\", \"locations\": [\"ISR\", \"GIB\", \"ARE\", \"SYC\", \"PLW\", \"GB-ENG\", \"GBR\", \"GB-WLS\", \"GB-NIR\", \"GB-SCT\", \"BHR\", \"IMN\", \"USA\", \"SRB\", \"MLT\", \"BMU\", \"DNK\", \"ISL\", \"IRL\", \"SVN\", \"ROU\", \"LTU\", \"PRT\", \"ITA\", \"ESP\", \"POL\", \"HUN\", \"CHE\", \"FIN\", \"DEU\", \"EST\", \"NC\", \"CYP\", \"SGP\", \"GRC\", \"BEL\", \"TUR\", \"CAN\", \"CZE\", \"SWE\", \"SVK\", \"NOR\", \"AUT\", \"FRA\", \"HRV\", \"LUX\", \"CHN\", \"SAU\", \"LVA\", \"NLD\", \"BRA\", \"CRI\", \"ARG\", \"OMN\", \"RUS\", \"BGR\", \"MEX\", \"CHL\", \"MAR\", \"LKA\", \"IND\", \"IDN\", \"PAN\", \"KWT\", \"ECU\", \"MMR\", \"DZA\"], \"name\": \"\", \"type\": \"choropleth\", \"z\": [56.28, 39.43, 34.79, 31.38, 17.18, 15.18, 14.42, 13.23, 13.01, 10.68, 10.08, 9.52, 9.4, 6.43, 6.29, 4.71, 4.66, 4.55, 4.05, 3.67, 3.59, 3.4, 3.32, 3.29, 3.15, 3.11, 3.1, 3.03, 2.96, 2.95, 2.91, 2.88, 2.87, 2.65, 2.58, 2.56, 2.53, 2.53, 2.51, 2.47, 2.46, 2.29, 2.25, 2.25, 1.95, 1.82, 1.67, 1.27, 1.26, 1.03, 1.0, 0.94, 0.83, 0.73, 0.69, 0.59, 0.52, 0.35, 0.34, 0.28, 0.27, 0.19, 0.15, 0.06, 0.02, 0.01, 0.0]}],\n",
              "                        {\"coloraxis\": {\"colorbar\": {\"title\": {\"text\": \"color\"}}, \"colorscale\": [[0.0, \"#0d0887\"], [0.1111111111111111, \"#46039f\"], [0.2222222222222222, \"#7201a8\"], [0.3333333333333333, \"#9c179e\"], [0.4444444444444444, \"#bd3786\"], [0.5555555555555556, \"#d8576b\"], [0.6666666666666666, \"#ed7953\"], [0.7777777777777778, \"#fb9f3a\"], [0.8888888888888888, \"#fdca26\"], [1.0, \"#f0f921\"]]}, \"geo\": {\"center\": {}, \"domain\": {\"x\": [0.0, 1.0], \"y\": [0.0, 1.0]}}, \"legend\": {\"tracegroupgap\": 0}, \"template\": {\"data\": {\"bar\": [{\"error_x\": {\"color\": \"#2a3f5f\"}, \"error_y\": {\"color\": \"#2a3f5f\"}, \"marker\": {\"line\": {\"color\": \"#E5ECF6\", \"width\": 0.5}}, \"type\": \"bar\"}], \"barpolar\": [{\"marker\": {\"line\": {\"color\": \"#E5ECF6\", \"width\": 0.5}}, \"type\": \"barpolar\"}], \"carpet\": [{\"aaxis\": {\"endlinecolor\": \"#2a3f5f\", \"gridcolor\": \"white\", \"linecolor\": \"white\", \"minorgridcolor\": \"white\", \"startlinecolor\": \"#2a3f5f\"}, \"baxis\": {\"endlinecolor\": \"#2a3f5f\", \"gridcolor\": \"white\", \"linecolor\": \"white\", \"minorgridcolor\": \"white\", \"startlinecolor\": \"#2a3f5f\"}, \"type\": \"carpet\"}], \"choropleth\": [{\"colorbar\": {\"outlinewidth\": 0, \"ticks\": \"\"}, \"type\": \"choropleth\"}], \"contour\": [{\"colorbar\": {\"outlinewidth\": 0, \"ticks\": \"\"}, \"colorscale\": [[0.0, \"#0d0887\"], [0.1111111111111111, \"#46039f\"], [0.2222222222222222, \"#7201a8\"], [0.3333333333333333, \"#9c179e\"], [0.4444444444444444, \"#bd3786\"], [0.5555555555555556, \"#d8576b\"], [0.6666666666666666, \"#ed7953\"], [0.7777777777777778, \"#fb9f3a\"], [0.8888888888888888, \"#fdca26\"], [1.0, \"#f0f921\"]], \"type\": \"contour\"}], \"contourcarpet\": [{\"colorbar\": {\"outlinewidth\": 0, \"ticks\": \"\"}, \"type\": \"contourcarpet\"}], \"heatmap\": [{\"colorbar\": {\"outlinewidth\": 0, \"ticks\": \"\"}, \"colorscale\": [[0.0, \"#0d0887\"], [0.1111111111111111, \"#46039f\"], [0.2222222222222222, \"#7201a8\"], [0.3333333333333333, \"#9c179e\"], [0.4444444444444444, \"#bd3786\"], [0.5555555555555556, \"#d8576b\"], [0.6666666666666666, \"#ed7953\"], [0.7777777777777778, \"#fb9f3a\"], [0.8888888888888888, \"#fdca26\"], [1.0, \"#f0f921\"]], \"type\": \"heatmap\"}], \"heatmapgl\": [{\"colorbar\": {\"outlinewidth\": 0, \"ticks\": \"\"}, \"colorscale\": [[0.0, \"#0d0887\"], [0.1111111111111111, \"#46039f\"], [0.2222222222222222, \"#7201a8\"], [0.3333333333333333, \"#9c179e\"], [0.4444444444444444, \"#bd3786\"], [0.5555555555555556, \"#d8576b\"], [0.6666666666666666, \"#ed7953\"], [0.7777777777777778, \"#fb9f3a\"], [0.8888888888888888, \"#fdca26\"], [1.0, \"#f0f921\"]], \"type\": \"heatmapgl\"}], \"histogram\": [{\"marker\": {\"colorbar\": {\"outlinewidth\": 0, \"ticks\": \"\"}}, \"type\": \"histogram\"}], \"histogram2d\": [{\"colorbar\": {\"outlinewidth\": 0, \"ticks\": \"\"}, \"colorscale\": [[0.0, \"#0d0887\"], [0.1111111111111111, \"#46039f\"], [0.2222222222222222, \"#7201a8\"], [0.3333333333333333, \"#9c179e\"], [0.4444444444444444, \"#bd3786\"], [0.5555555555555556, \"#d8576b\"], [0.6666666666666666, \"#ed7953\"], [0.7777777777777778, \"#fb9f3a\"], [0.8888888888888888, \"#fdca26\"], [1.0, \"#f0f921\"]], \"type\": \"histogram2d\"}], \"histogram2dcontour\": [{\"colorbar\": {\"outlinewidth\": 0, \"ticks\": \"\"}, \"colorscale\": [[0.0, \"#0d0887\"], [0.1111111111111111, \"#46039f\"], [0.2222222222222222, \"#7201a8\"], [0.3333333333333333, \"#9c179e\"], [0.4444444444444444, \"#bd3786\"], [0.5555555555555556, \"#d8576b\"], [0.6666666666666666, \"#ed7953\"], [0.7777777777777778, \"#fb9f3a\"], [0.8888888888888888, \"#fdca26\"], [1.0, \"#f0f921\"]], \"type\": \"histogram2dcontour\"}], \"mesh3d\": [{\"colorbar\": {\"outlinewidth\": 0, \"ticks\": \"\"}, \"type\": \"mesh3d\"}], \"parcoords\": [{\"line\": {\"colorbar\": {\"outlinewidth\": 0, \"ticks\": \"\"}}, \"type\": \"parcoords\"}], \"pie\": [{\"automargin\": true, \"type\": \"pie\"}], \"scatter\": [{\"marker\": {\"colorbar\": {\"outlinewidth\": 0, \"ticks\": \"\"}}, \"type\": \"scatter\"}], \"scatter3d\": [{\"line\": {\"colorbar\": {\"outlinewidth\": 0, \"ticks\": \"\"}}, \"marker\": {\"colorbar\": {\"outlinewidth\": 0, \"ticks\": \"\"}}, \"type\": \"scatter3d\"}], \"scattercarpet\": [{\"marker\": {\"colorbar\": {\"outlinewidth\": 0, \"ticks\": \"\"}}, \"type\": \"scattercarpet\"}], \"scattergeo\": [{\"marker\": {\"colorbar\": {\"outlinewidth\": 0, \"ticks\": \"\"}}, \"type\": \"scattergeo\"}], \"scattergl\": [{\"marker\": {\"colorbar\": {\"outlinewidth\": 0, \"ticks\": \"\"}}, \"type\": \"scattergl\"}], \"scattermapbox\": [{\"marker\": {\"colorbar\": {\"outlinewidth\": 0, \"ticks\": \"\"}}, \"type\": \"scattermapbox\"}], \"scatterpolar\": [{\"marker\": {\"colorbar\": {\"outlinewidth\": 0, \"ticks\": \"\"}}, \"type\": \"scatterpolar\"}], \"scatterpolargl\": [{\"marker\": {\"colorbar\": {\"outlinewidth\": 0, \"ticks\": \"\"}}, \"type\": \"scatterpolargl\"}], \"scatterternary\": [{\"marker\": {\"colorbar\": {\"outlinewidth\": 0, \"ticks\": \"\"}}, \"type\": \"scatterternary\"}], \"surface\": [{\"colorbar\": {\"outlinewidth\": 0, \"ticks\": \"\"}, \"colorscale\": [[0.0, \"#0d0887\"], [0.1111111111111111, \"#46039f\"], [0.2222222222222222, \"#7201a8\"], [0.3333333333333333, \"#9c179e\"], [0.4444444444444444, \"#bd3786\"], [0.5555555555555556, \"#d8576b\"], [0.6666666666666666, \"#ed7953\"], [0.7777777777777778, \"#fb9f3a\"], [0.8888888888888888, \"#fdca26\"], [1.0, \"#f0f921\"]], \"type\": \"surface\"}], \"table\": [{\"cells\": {\"fill\": {\"color\": \"#EBF0F8\"}, \"line\": {\"color\": \"white\"}}, \"header\": {\"fill\": {\"color\": \"#C8D4E3\"}, \"line\": {\"color\": \"white\"}}, \"type\": \"table\"}]}, \"layout\": {\"annotationdefaults\": {\"arrowcolor\": \"#2a3f5f\", \"arrowhead\": 0, \"arrowwidth\": 1}, \"coloraxis\": {\"colorbar\": {\"outlinewidth\": 0, \"ticks\": \"\"}}, \"colorscale\": {\"diverging\": [[0, \"#8e0152\"], [0.1, \"#c51b7d\"], [0.2, \"#de77ae\"], [0.3, \"#f1b6da\"], [0.4, \"#fde0ef\"], [0.5, \"#f7f7f7\"], [0.6, \"#e6f5d0\"], [0.7, \"#b8e186\"], [0.8, \"#7fbc41\"], [0.9, \"#4d9221\"], [1, \"#276419\"]], \"sequential\": [[0.0, \"#0d0887\"], [0.1111111111111111, \"#46039f\"], [0.2222222222222222, \"#7201a8\"], [0.3333333333333333, \"#9c179e\"], [0.4444444444444444, \"#bd3786\"], [0.5555555555555556, \"#d8576b\"], [0.6666666666666666, \"#ed7953\"], [0.7777777777777778, \"#fb9f3a\"], [0.8888888888888888, \"#fdca26\"], [1.0, \"#f0f921\"]], \"sequentialminus\": [[0.0, \"#0d0887\"], [0.1111111111111111, \"#46039f\"], [0.2222222222222222, \"#7201a8\"], [0.3333333333333333, \"#9c179e\"], [0.4444444444444444, \"#bd3786\"], [0.5555555555555556, \"#d8576b\"], [0.6666666666666666, \"#ed7953\"], [0.7777777777777778, \"#fb9f3a\"], [0.8888888888888888, \"#fdca26\"], [1.0, \"#f0f921\"]]}, \"colorway\": [\"#636efa\", \"#EF553B\", \"#00cc96\", \"#ab63fa\", \"#FFA15A\", \"#19d3f3\", \"#FF6692\", \"#B6E880\", \"#FF97FF\", \"#FECB52\"], \"font\": {\"color\": \"#2a3f5f\"}, \"geo\": {\"bgcolor\": \"white\", \"lakecolor\": \"white\", \"landcolor\": \"#E5ECF6\", \"showlakes\": true, \"showland\": true, \"subunitcolor\": \"white\"}, \"hoverlabel\": {\"align\": \"left\"}, \"hovermode\": \"closest\", \"mapbox\": {\"style\": \"light\"}, \"paper_bgcolor\": \"white\", \"plot_bgcolor\": \"#E5ECF6\", \"polar\": {\"angularaxis\": {\"gridcolor\": \"white\", \"linecolor\": \"white\", \"ticks\": \"\"}, \"bgcolor\": \"#E5ECF6\", \"radialaxis\": {\"gridcolor\": \"white\", \"linecolor\": \"white\", \"ticks\": \"\"}}, \"scene\": {\"xaxis\": {\"backgroundcolor\": \"#E5ECF6\", \"gridcolor\": \"white\", \"gridwidth\": 2, \"linecolor\": \"white\", \"showbackground\": true, \"ticks\": \"\", \"zerolinecolor\": \"white\"}, \"yaxis\": {\"backgroundcolor\": \"#E5ECF6\", \"gridcolor\": \"white\", \"gridwidth\": 2, \"linecolor\": \"white\", \"showbackground\": true, \"ticks\": \"\", \"zerolinecolor\": \"white\"}, \"zaxis\": {\"backgroundcolor\": \"#E5ECF6\", \"gridcolor\": \"white\", \"gridwidth\": 2, \"linecolor\": \"white\", \"showbackground\": true, \"ticks\": \"\", \"zerolinecolor\": \"white\"}}, \"shapedefaults\": {\"line\": {\"color\": \"#2a3f5f\"}}, \"ternary\": {\"aaxis\": {\"gridcolor\": \"white\", \"linecolor\": \"white\", \"ticks\": \"\"}, \"baxis\": {\"gridcolor\": \"white\", \"linecolor\": \"white\", \"ticks\": \"\"}, \"bgcolor\": \"#E5ECF6\", \"caxis\": {\"gridcolor\": \"white\", \"linecolor\": \"white\", \"ticks\": \"\"}}, \"title\": {\"x\": 0.05}, \"xaxis\": {\"automargin\": true, \"gridcolor\": \"white\", \"linecolor\": \"white\", \"ticks\": \"\", \"title\": {\"standoff\": 15}, \"zerolinecolor\": \"white\", \"zerolinewidth\": 2}, \"yaxis\": {\"automargin\": true, \"gridcolor\": \"white\", \"linecolor\": \"white\", \"ticks\": \"\", \"title\": {\"standoff\": 15}, \"zerolinecolor\": \"white\", \"zerolinewidth\": 2}}}, \"title\": {\"text\": \"Amount of Vaccinated Citizens per Hundred\"}},\n",
              "                        {\"responsive\": true}\n",
              "                    ).then(function(){\n",
              "                            \n",
              "var gd = document.getElementById('c4672cca-ae5a-4766-8a38-a9f5ac9a8545');\n",
              "var x = new MutationObserver(function (mutations, observer) {{\n",
              "        var display = window.getComputedStyle(gd).display;\n",
              "        if (!display || display === 'none') {{\n",
              "            console.log([gd, 'removed!']);\n",
              "            Plotly.purge(gd);\n",
              "            observer.disconnect();\n",
              "        }}\n",
              "}});\n",
              "\n",
              "// Listen for the removal of the full notebook cells\n",
              "var notebookContainer = gd.closest('#notebook-container');\n",
              "if (notebookContainer) {{\n",
              "    x.observe(notebookContainer, {childList: true});\n",
              "}}\n",
              "\n",
              "// Listen for the clearing of the current output cell\n",
              "var outputEl = gd.closest('.output');\n",
              "if (outputEl) {{\n",
              "    x.observe(outputEl, {childList: true});\n",
              "}}\n",
              "\n",
              "                        })\n",
              "                };\n",
              "                \n",
              "            </script>\n",
              "        </div>\n",
              "</body>\n",
              "</html>"
            ]
          },
          "metadata": {
            "tags": []
          }
        }
      ]
    },
    {
      "cell_type": "markdown",
      "metadata": {
        "id": "3_SZ3LbEl6xX"
      },
      "source": [
        "USA's vaccination level per hundred people is also on the higher end. Asia, Russia and South America all among the lowest level."
      ]
    },
    {
      "cell_type": "markdown",
      "metadata": {
        "id": "GFT3SCUbmOZ-"
      },
      "source": [
        "# Most Popular Vaccine"
      ]
    },
    {
      "cell_type": "code",
      "metadata": {
        "colab": {
          "base_uri": "https://localhost:8080/",
          "height": 526
        },
        "id": "WJKu1AmLlxxp",
        "outputId": "2551b9e0-d3f9-474e-9c32-522b67485bc4"
      },
      "source": [
        "vaccine_pop = vaccine_amount.groupby('vaccines').sum().sort_values('total_vaccinations', ascending = False)\n",
        "plt.figure(figsize=(10,5))\n",
        "plt.bar(vaccine_pop.index, vaccine_pop.total_vaccinations)\n",
        "plt.xticks(rotation = 90)\n",
        "plt.ylabel('Amount of Vaccinated People')\n",
        "plt.xlabel('Vaccines')\n",
        "plt.show()"
      ],
      "execution_count": null,
      "outputs": [
        {
          "output_type": "display_data",
          "data": {
            "image/png": "[encoded data removed]",
            "text/plain": [
              "<Figure size 720x360 with 1 Axes>"
            ]
          },
          "metadata": {
            "tags": [],
            "needs_background": "light"
          }
        }
      ]
    },
    {
      "cell_type": "markdown",
      "metadata": {
        "id": "YzN4ZIKHnATR"
      },
      "source": [
        "Pfizer/BioNTech appears to be the most popular and most widespread vaccine. We will show this data on a map."
      ]
    },
    {
      "cell_type": "code",
      "metadata": {
        "colab": {
          "base_uri": "https://localhost:8080/",
          "height": 542
        },
        "id": "B5lykzDUm6JY",
        "outputId": "52611572-75a4-428f-a043-fcc9db211ac5"
      },
      "source": [
        "fig = px.choropleth(locations=vaccine_amount.iso_code, color=vaccine_amount.vaccines, title='Name of the vaccine', \n",
        "                   color_continuous_scale='rainbow')\n",
        "fig.show()"
      ],
      "execution_count": null,
      "outputs": [
        {
          "output_type": "display_data",
          "data": {
            "text/html": [
              "<html>\n",
              "<head><meta charset=\"utf-8\" /></head>\n",
              "<body>\n",
              "    <div>\n",
              "            <script src=\"https://cdnjs.cloudflare.com/ajax/libs/mathjax/2.7.5/MathJax.js?config=TeX-AMS-MML_SVG\"></script><script type=\"text/javascript\">if (window.MathJax) {MathJax.Hub.Config({SVG: {font: \"STIX-Web\"}});}</script>\n",
              "                <script type=\"text/javascript\">window.PlotlyConfig = {MathJaxConfig: 'local'};</script>\n",
              "        <script src=\"https://cdn.plot.ly/plotly-latest.min.js\"></script>    \n",
              "            <div id=\"acf926e8-4208-4cee-a616-6441234d0235\" class=\"plotly-graph-div\" style=\"height:525px; width:100%;\"></div>\n",
              "            <script type=\"text/javascript\">\n",
              "                \n",
              "                    window.PLOTLYENV=window.PLOTLYENV || {};\n",
              "                    \n",
              "                if (document.getElementById(\"acf926e8-4208-4cee-a616-6441234d0235\")) {\n",
              "                    Plotly.newPlot(\n",
              "                        'acf926e8-4208-4cee-a616-6441234d0235',\n",
              "                        [{\"coloraxis\": \"coloraxis\", \"geo\": \"geo\", \"hoverlabel\": {\"namelength\": 0}, \"hovertemplate\": \"locations=%{location}<br>color=%{z}\", \"locations\": [\"ISR\", \"GIB\", \"ARE\", \"SYC\", \"PLW\", \"GB-ENG\", \"GBR\", \"GB-WLS\", \"GB-NIR\", \"GB-SCT\", \"BHR\", \"IMN\", \"USA\", \"SRB\", \"MLT\", \"BMU\", \"DNK\", \"ISL\", \"IRL\", \"SVN\", \"ROU\", \"LTU\", \"PRT\", \"ITA\", \"ESP\", \"POL\", \"HUN\", \"CHE\", \"FIN\", \"DEU\", \"EST\", \"NC\", \"CYP\", \"SGP\", \"GRC\", \"BEL\", \"TUR\", \"CAN\", \"CZE\", \"SWE\", \"SVK\", \"NOR\", \"AUT\", \"FRA\", \"HRV\", \"LUX\", \"CHN\", \"SAU\", \"LVA\", \"NLD\", \"BRA\", \"CRI\", \"ARG\", \"OMN\", \"RUS\", \"BGR\", \"MEX\", \"CHL\", \"MAR\", \"LKA\", \"IND\", \"IDN\", \"PAN\", \"KWT\", \"ECU\", \"MMR\", \"DZA\"], \"name\": \"\", \"type\": \"choropleth\", \"z\": [\"Moderna, Pfizer/BioNTech\", \"Pfizer/BioNTech\", \"Pfizer/BioNTech, Sinopharm\", \"Oxford/AstraZeneca, Sinopharm\", \"Moderna\", \"Oxford/AstraZeneca, Pfizer/BioNTech\", \"Oxford/AstraZeneca, Pfizer/BioNTech\", \"Oxford/AstraZeneca, Pfizer/BioNTech\", \"Oxford/AstraZeneca, Pfizer/BioNTech\", \"Oxford/AstraZeneca, Pfizer/BioNTech\", \"Pfizer/BioNTech, Sinopharm\", \"Pfizer/BioNTech\", \"Moderna, Pfizer/BioNTech\", \"Pfizer/BioNTech, Sinopharm, Sputnik V\", \"Pfizer/BioNTech\", \"Pfizer/BioNTech\", \"Moderna, Pfizer/BioNTech\", \"Moderna, Pfizer/BioNTech\", \"Pfizer/BioNTech\", \"Pfizer/BioNTech\", \"Pfizer/BioNTech\", \"Moderna, Pfizer/BioNTech\", \"Pfizer/BioNTech\", \"Pfizer/BioNTech\", \"Moderna, Pfizer/BioNTech\", \"Pfizer/BioNTech\", \"Pfizer/BioNTech\", \"Moderna, Pfizer/BioNTech\", \"Pfizer/BioNTech\", \"Moderna, Pfizer/BioNTech\", \"Pfizer/BioNTech\", \"Pfizer/BioNTech, Sinovac\", \"Pfizer/BioNTech\", \"Pfizer/BioNTech\", \"Pfizer/BioNTech\", \"Moderna, Pfizer/BioNTech\", \"Sinovac\", \"Moderna, Pfizer/BioNTech\", \"Moderna, Pfizer/BioNTech\", \"Pfizer/BioNTech\", \"Pfizer/BioNTech\", \"Pfizer/BioNTech\", \"Pfizer/BioNTech\", \"Pfizer/BioNTech\", \"Pfizer/BioNTech\", \"Pfizer/BioNTech\", \"CNBG, Sinovac\", \"Pfizer/BioNTech\", \"Pfizer/BioNTech\", \"Moderna, Pfizer/BioNTech\", \"Oxford/AstraZeneca, Sinovac\", \"Pfizer/BioNTech\", \"Sputnik V\", \"Pfizer/BioNTech\", \"Sputnik V\", \"Moderna, Pfizer/BioNTech\", \"Pfizer/BioNTech\", \"Pfizer/BioNTech\", \"Oxford/AstraZeneca, Sinopharm\", \"Oxford/AstraZeneca\", \"Covaxin, Oxford/AstraZeneca\", \"Sinovac\", \"Pfizer/BioNTech\", \"Pfizer/BioNTech\", \"Pfizer/BioNTech\", \"Oxford/AstraZeneca\", \"Sputnik V\"]}],\n",
              "                        {\"coloraxis\": {\"colorbar\": {\"title\": {\"text\": \"color\"}}, \"colorscale\": [[0.0, \"#0d0887\"], [0.1111111111111111, \"#46039f\"], [0.2222222222222222, \"#7201a8\"], [0.3333333333333333, \"#9c179e\"], [0.4444444444444444, \"#bd3786\"], [0.5555555555555556, \"#d8576b\"], [0.6666666666666666, \"#ed7953\"], [0.7777777777777778, \"#fb9f3a\"], [0.8888888888888888, \"#fdca26\"], [1.0, \"#f0f921\"]]}, \"geo\": {\"center\": {}, \"domain\": {\"x\": [0.0, 1.0], \"y\": [0.0, 1.0]}}, \"legend\": {\"tracegroupgap\": 0}, \"template\": {\"data\": {\"bar\": [{\"error_x\": {\"color\": \"#2a3f5f\"}, \"error_y\": {\"color\": \"#2a3f5f\"}, \"marker\": {\"line\": {\"color\": \"#E5ECF6\", \"width\": 0.5}}, \"type\": \"bar\"}], \"barpolar\": [{\"marker\": {\"line\": {\"color\": \"#E5ECF6\", \"width\": 0.5}}, \"type\": \"barpolar\"}], \"carpet\": [{\"aaxis\": {\"endlinecolor\": \"#2a3f5f\", \"gridcolor\": \"white\", \"linecolor\": \"white\", \"minorgridcolor\": \"white\", \"startlinecolor\": \"#2a3f5f\"}, \"baxis\": {\"endlinecolor\": \"#2a3f5f\", \"gridcolor\": \"white\", \"linecolor\": \"white\", \"minorgridcolor\": \"white\", \"startlinecolor\": \"#2a3f5f\"}, \"type\": \"carpet\"}], \"choropleth\": [{\"colorbar\": {\"outlinewidth\": 0, \"ticks\": \"\"}, \"type\": \"choropleth\"}], \"contour\": [{\"colorbar\": {\"outlinewidth\": 0, \"ticks\": \"\"}, \"colorscale\": [[0.0, \"#0d0887\"], [0.1111111111111111, \"#46039f\"], [0.2222222222222222, \"#7201a8\"], [0.3333333333333333, \"#9c179e\"], [0.4444444444444444, \"#bd3786\"], [0.5555555555555556, \"#d8576b\"], [0.6666666666666666, \"#ed7953\"], [0.7777777777777778, \"#fb9f3a\"], [0.8888888888888888, \"#fdca26\"], [1.0, \"#f0f921\"]], \"type\": \"contour\"}], \"contourcarpet\": [{\"colorbar\": {\"outlinewidth\": 0, \"ticks\": \"\"}, \"type\": \"contourcarpet\"}], \"heatmap\": [{\"colorbar\": {\"outlinewidth\": 0, \"ticks\": \"\"}, \"colorscale\": [[0.0, \"#0d0887\"], [0.1111111111111111, \"#46039f\"], [0.2222222222222222, \"#7201a8\"], [0.3333333333333333, \"#9c179e\"], [0.4444444444444444, \"#bd3786\"], [0.5555555555555556, \"#d8576b\"], [0.6666666666666666, \"#ed7953\"], [0.7777777777777778, \"#fb9f3a\"], [0.8888888888888888, \"#fdca26\"], [1.0, \"#f0f921\"]], \"type\": \"heatmap\"}], \"heatmapgl\": [{\"colorbar\": {\"outlinewidth\": 0, \"ticks\": \"\"}, \"colorscale\": [[0.0, \"#0d0887\"], [0.1111111111111111, \"#46039f\"], [0.2222222222222222, \"#7201a8\"], [0.3333333333333333, \"#9c179e\"], [0.4444444444444444, \"#bd3786\"], [0.5555555555555556, \"#d8576b\"], [0.6666666666666666, \"#ed7953\"], [0.7777777777777778, \"#fb9f3a\"], [0.8888888888888888, \"#fdca26\"], [1.0, \"#f0f921\"]], \"type\": \"heatmapgl\"}], \"histogram\": [{\"marker\": {\"colorbar\": {\"outlinewidth\": 0, \"ticks\": \"\"}}, \"type\": \"histogram\"}], \"histogram2d\": [{\"colorbar\": {\"outlinewidth\": 0, \"ticks\": \"\"}, \"colorscale\": [[0.0, \"#0d0887\"], [0.1111111111111111, \"#46039f\"], [0.2222222222222222, \"#7201a8\"], [0.3333333333333333, \"#9c179e\"], [0.4444444444444444, \"#bd3786\"], [0.5555555555555556, \"#d8576b\"], [0.6666666666666666, \"#ed7953\"], [0.7777777777777778, \"#fb9f3a\"], [0.8888888888888888, \"#fdca26\"], [1.0, \"#f0f921\"]], \"type\": \"histogram2d\"}], \"histogram2dcontour\": [{\"colorbar\": {\"outlinewidth\": 0, \"ticks\": \"\"}, \"colorscale\": [[0.0, \"#0d0887\"], [0.1111111111111111, \"#46039f\"], [0.2222222222222222, \"#7201a8\"], [0.3333333333333333, \"#9c179e\"], [0.4444444444444444, \"#bd3786\"], [0.5555555555555556, \"#d8576b\"], [0.6666666666666666, \"#ed7953\"], [0.7777777777777778, \"#fb9f3a\"], [0.8888888888888888, \"#fdca26\"], [1.0, \"#f0f921\"]], \"type\": \"histogram2dcontour\"}], \"mesh3d\": [{\"colorbar\": {\"outlinewidth\": 0, \"ticks\": \"\"}, \"type\": \"mesh3d\"}], \"parcoords\": [{\"line\": {\"colorbar\": {\"outlinewidth\": 0, \"ticks\": \"\"}}, \"type\": \"parcoords\"}], \"pie\": [{\"automargin\": true, \"type\": \"pie\"}], \"scatter\": [{\"marker\": {\"colorbar\": {\"outlinewidth\": 0, \"ticks\": \"\"}}, \"type\": \"scatter\"}], \"scatter3d\": [{\"line\": {\"colorbar\": {\"outlinewidth\": 0, \"ticks\": \"\"}}, \"marker\": {\"colorbar\": {\"outlinewidth\": 0, \"ticks\": \"\"}}, \"type\": \"scatter3d\"}], \"scattercarpet\": [{\"marker\": {\"colorbar\": {\"outlinewidth\": 0, \"ticks\": \"\"}}, \"type\": \"scattercarpet\"}], \"scattergeo\": [{\"marker\": {\"colorbar\": {\"outlinewidth\": 0, \"ticks\": \"\"}}, \"type\": \"scattergeo\"}], \"scattergl\": [{\"marker\": {\"colorbar\": {\"outlinewidth\": 0, \"ticks\": \"\"}}, \"type\": \"scattergl\"}], \"scattermapbox\": [{\"marker\": {\"colorbar\": {\"outlinewidth\": 0, \"ticks\": \"\"}}, \"type\": \"scattermapbox\"}], \"scatterpolar\": [{\"marker\": {\"colorbar\": {\"outlinewidth\": 0, \"ticks\": \"\"}}, \"type\": \"scatterpolar\"}], \"scatterpolargl\": [{\"marker\": {\"colorbar\": {\"outlinewidth\": 0, \"ticks\": \"\"}}, \"type\": \"scatterpolargl\"}], \"scatterternary\": [{\"marker\": {\"colorbar\": {\"outlinewidth\": 0, \"ticks\": \"\"}}, \"type\": \"scatterternary\"}], \"surface\": [{\"colorbar\": {\"outlinewidth\": 0, \"ticks\": \"\"}, \"colorscale\": [[0.0, \"#0d0887\"], [0.1111111111111111, \"#46039f\"], [0.2222222222222222, \"#7201a8\"], [0.3333333333333333, \"#9c179e\"], [0.4444444444444444, \"#bd3786\"], [0.5555555555555556, \"#d8576b\"], [0.6666666666666666, \"#ed7953\"], [0.7777777777777778, \"#fb9f3a\"], [0.8888888888888888, \"#fdca26\"], [1.0, \"#f0f921\"]], \"type\": \"surface\"}], \"table\": [{\"cells\": {\"fill\": {\"color\": \"#EBF0F8\"}, \"line\": {\"color\": \"white\"}}, \"header\": {\"fill\": {\"color\": \"#C8D4E3\"}, \"line\": {\"color\": \"white\"}}, \"type\": \"table\"}]}, \"layout\": {\"annotationdefaults\": {\"arrowcolor\": \"#2a3f5f\", \"arrowhead\": 0, \"arrowwidth\": 1}, \"coloraxis\": {\"colorbar\": {\"outlinewidth\": 0, \"ticks\": \"\"}}, \"colorscale\": {\"diverging\": [[0, \"#8e0152\"], [0.1, \"#c51b7d\"], [0.2, \"#de77ae\"], [0.3, \"#f1b6da\"], [0.4, \"#fde0ef\"], [0.5, \"#f7f7f7\"], [0.6, \"#e6f5d0\"], [0.7, \"#b8e186\"], [0.8, \"#7fbc41\"], [0.9, \"#4d9221\"], [1, \"#276419\"]], \"sequential\": [[0.0, \"#0d0887\"], [0.1111111111111111, \"#46039f\"], [0.2222222222222222, \"#7201a8\"], [0.3333333333333333, \"#9c179e\"], [0.4444444444444444, \"#bd3786\"], [0.5555555555555556, \"#d8576b\"], [0.6666666666666666, \"#ed7953\"], [0.7777777777777778, \"#fb9f3a\"], [0.8888888888888888, \"#fdca26\"], [1.0, \"#f0f921\"]], \"sequentialminus\": [[0.0, \"#0d0887\"], [0.1111111111111111, \"#46039f\"], [0.2222222222222222, \"#7201a8\"], [0.3333333333333333, \"#9c179e\"], [0.4444444444444444, \"#bd3786\"], [0.5555555555555556, \"#d8576b\"], [0.6666666666666666, \"#ed7953\"], [0.7777777777777778, \"#fb9f3a\"], [0.8888888888888888, \"#fdca26\"], [1.0, \"#f0f921\"]]}, \"colorway\": [\"#636efa\", \"#EF553B\", \"#00cc96\", \"#ab63fa\", \"#FFA15A\", \"#19d3f3\", \"#FF6692\", \"#B6E880\", \"#FF97FF\", \"#FECB52\"], \"font\": {\"color\": \"#2a3f5f\"}, \"geo\": {\"bgcolor\": \"white\", \"lakecolor\": \"white\", \"landcolor\": \"#E5ECF6\", \"showlakes\": true, \"showland\": true, \"subunitcolor\": \"white\"}, \"hoverlabel\": {\"align\": \"left\"}, \"hovermode\": \"closest\", \"mapbox\": {\"style\": \"light\"}, \"paper_bgcolor\": \"white\", \"plot_bgcolor\": \"#E5ECF6\", \"polar\": {\"angularaxis\": {\"gridcolor\": \"white\", \"linecolor\": \"white\", \"ticks\": \"\"}, \"bgcolor\": \"#E5ECF6\", \"radialaxis\": {\"gridcolor\": \"white\", \"linecolor\": \"white\", \"ticks\": \"\"}}, \"scene\": {\"xaxis\": {\"backgroundcolor\": \"#E5ECF6\", \"gridcolor\": \"white\", \"gridwidth\": 2, \"linecolor\": \"white\", \"showbackground\": true, \"ticks\": \"\", \"zerolinecolor\": \"white\"}, \"yaxis\": {\"backgroundcolor\": \"#E5ECF6\", \"gridcolor\": \"white\", \"gridwidth\": 2, \"linecolor\": \"white\", \"showbackground\": true, \"ticks\": \"\", \"zerolinecolor\": \"white\"}, \"zaxis\": {\"backgroundcolor\": \"#E5ECF6\", \"gridcolor\": \"white\", \"gridwidth\": 2, \"linecolor\": \"white\", \"showbackground\": true, \"ticks\": \"\", \"zerolinecolor\": \"white\"}}, \"shapedefaults\": {\"line\": {\"color\": \"#2a3f5f\"}}, \"ternary\": {\"aaxis\": {\"gridcolor\": \"white\", \"linecolor\": \"white\", \"ticks\": \"\"}, \"baxis\": {\"gridcolor\": \"white\", \"linecolor\": \"white\", \"ticks\": \"\"}, \"bgcolor\": \"#E5ECF6\", \"caxis\": {\"gridcolor\": \"white\", \"linecolor\": \"white\", \"ticks\": \"\"}}, \"title\": {\"x\": 0.05}, \"xaxis\": {\"automargin\": true, \"gridcolor\": \"white\", \"linecolor\": \"white\", \"ticks\": \"\", \"title\": {\"standoff\": 15}, \"zerolinecolor\": \"white\", \"zerolinewidth\": 2}, \"yaxis\": {\"automargin\": true, \"gridcolor\": \"white\", \"linecolor\": \"white\", \"ticks\": \"\", \"title\": {\"standoff\": 15}, \"zerolinecolor\": \"white\", \"zerolinewidth\": 2}}}, \"title\": {\"text\": \"Name of the vaccine\"}},\n",
              "                        {\"responsive\": true}\n",
              "                    ).then(function(){\n",
              "                            \n",
              "var gd = document.getElementById('acf926e8-4208-4cee-a616-6441234d0235');\n",
              "var x = new MutationObserver(function (mutations, observer) {{\n",
              "        var display = window.getComputedStyle(gd).display;\n",
              "        if (!display || display === 'none') {{\n",
              "            console.log([gd, 'removed!']);\n",
              "            Plotly.purge(gd);\n",
              "            observer.disconnect();\n",
              "        }}\n",
              "}});\n",
              "\n",
              "// Listen for the removal of the full notebook cells\n",
              "var notebookContainer = gd.closest('#notebook-container');\n",
              "if (notebookContainer) {{\n",
              "    x.observe(notebookContainer, {childList: true});\n",
              "}}\n",
              "\n",
              "// Listen for the clearing of the current output cell\n",
              "var outputEl = gd.closest('.output');\n",
              "if (outputEl) {{\n",
              "    x.observe(outputEl, {childList: true});\n",
              "}}\n",
              "\n",
              "                        })\n",
              "                };\n",
              "                \n",
              "            </script>\n",
              "        </div>\n",
              "</body>\n",
              "</html>"
            ]
          },
          "metadata": {
            "tags": []
          }
        }
      ]
    },
    {
      "cell_type": "markdown",
      "metadata": {
        "id": "xLhdGyp6ppyW"
      },
      "source": [
        "# Vaccination Amount Prediction"
      ]
    },
    {
      "cell_type": "code",
      "metadata": {
        "id": "9OK_FsK7nsuC"
      },
      "source": [
        "t_cols = ['date', 'total_vaccinations']\n",
        "timeseries_cov = data[t_cols].groupby('date').sum()[4:-1]\n",
        "\n",
        "def invboxcox(y, l):\n",
        "  if l == 0:\n",
        "    return np.exp(y)\n",
        "  else:\n",
        "    return np.exp(np.log(l*y+1)/1)\n",
        "    "
      ],
      "execution_count": null,
      "outputs": []
    },
    {
      "cell_type": "code",
      "metadata": {
        "colab": {
          "base_uri": "https://localhost:8080/",
          "height": 492
        },
        "id": "qDYZGtOU02Uz",
        "outputId": "9db4e0bb-8a53-4933-ba27-319cc1f27bb3"
      },
      "source": [
        "plt.figure(figsize=(20,7))\n",
        "timeseries_cov.total_vaccinations.plot()\n",
        "plt.xticks(rotation = 45)\n",
        "plt.show()"
      ],
      "execution_count": null,
      "outputs": [
        {
          "output_type": "display_data",
          "data": {
            "image/png": "[encoded data removed]",
            "text/plain": [
              "<Figure size 1440x504 with 1 Axes>"
            ]
          },
          "metadata": {
            "tags": [],
            "needs_background": "light"
          }
        }
      ]
    },
    {
      "cell_type": "markdown",
      "metadata": {
        "id": "xD7L9_Sw3ZwU"
      },
      "source": [
        "A strong uptrend in the amount of people getting the vaccine despite there being some dips some of the days.\n",
        "However to make future predictions of these values, the above timeseries must be stationary.\n"
      ]
    }
  ]
}